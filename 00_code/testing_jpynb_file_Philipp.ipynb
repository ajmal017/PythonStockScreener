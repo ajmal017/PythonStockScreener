{
 "metadata": {
  "language_info": {
   "codemirror_mode": {
    "name": "ipython",
    "version": 3
   },
   "file_extension": ".py",
   "mimetype": "text/x-python",
   "name": "python",
   "nbconvert_exporter": "python",
   "pygments_lexer": "ipython3",
   "version": "3.8.5-final"
  },
  "orig_nbformat": 2,
  "kernelspec": {
   "name": "python3",
   "display_name": "Python 3.8.5 64-bit ('finance': conda)",
   "metadata": {
    "interpreter": {
     "hash": "abe263e767662d32459d58e9fe94dd9080bdf677db79ee2f065563f398d049a9"
    }
   }
  }
 },
 "nbformat": 4,
 "nbformat_minor": 2,
 "cells": [
  {
   "cell_type": "code",
   "execution_count": 5,
   "metadata": {},
   "outputs": [],
   "source": [
    "# Import statements\n",
    "import yfinance as yf\n",
    "import pandas as pd\n",
    "import os\n",
    "import numpy as np\n",
    "from datetime import date\n",
    "import feather\n",
    "from global_vars import *\n",
    "\n",
    "from price_data_pull_yfinance import gethistoricalOHLC"
   ]
  },
  {
   "cell_type": "code",
   "execution_count": 2,
   "metadata": {},
   "outputs": [],
   "source": []
  },
  {
   "cell_type": "code",
   "execution_count": 6,
   "metadata": {},
   "outputs": [],
   "source": [
    "hist_PORSCHE = gethistoricalOHLC(\"POAHY\")"
   ]
  },
  {
   "cell_type": "code",
   "execution_count": 7,
   "metadata": {},
   "outputs": [
    {
     "output_type": "execute_result",
     "data": {
      "text/plain": [
       "         DATE      Open      High       Low     Close  Volume  Dividends  \\\n",
       "0  2010-01-20  4.315713  4.315713  4.130022  4.187650    2600        0.0   \n",
       "1  2010-01-21  4.110813  4.110813  4.033975  4.098006    1800        0.0   \n",
       "2  2010-01-22  3.989154  4.001960  3.873897  4.001960    3900        0.0   \n",
       "3  2010-01-25  3.886704  3.982750  3.848285  3.912316   11300        0.0   \n",
       "4  2010-01-26  3.841882  3.912316  3.803463  3.912316    1800        0.0   \n",
       "\n",
       "   Stock Splits  \n",
       "0             0  \n",
       "1             0  \n",
       "2             0  \n",
       "3             0  \n",
       "4             0  "
      ],
      "text/html": "<div>\n<style scoped>\n    .dataframe tbody tr th:only-of-type {\n        vertical-align: middle;\n    }\n\n    .dataframe tbody tr th {\n        vertical-align: top;\n    }\n\n    .dataframe thead th {\n        text-align: right;\n    }\n</style>\n<table border=\"1\" class=\"dataframe\">\n  <thead>\n    <tr style=\"text-align: right;\">\n      <th></th>\n      <th>DATE</th>\n      <th>Open</th>\n      <th>High</th>\n      <th>Low</th>\n      <th>Close</th>\n      <th>Volume</th>\n      <th>Dividends</th>\n      <th>Stock Splits</th>\n    </tr>\n  </thead>\n  <tbody>\n    <tr>\n      <th>0</th>\n      <td>2010-01-20</td>\n      <td>4.315713</td>\n      <td>4.315713</td>\n      <td>4.130022</td>\n      <td>4.187650</td>\n      <td>2600</td>\n      <td>0.0</td>\n      <td>0</td>\n    </tr>\n    <tr>\n      <th>1</th>\n      <td>2010-01-21</td>\n      <td>4.110813</td>\n      <td>4.110813</td>\n      <td>4.033975</td>\n      <td>4.098006</td>\n      <td>1800</td>\n      <td>0.0</td>\n      <td>0</td>\n    </tr>\n    <tr>\n      <th>2</th>\n      <td>2010-01-22</td>\n      <td>3.989154</td>\n      <td>4.001960</td>\n      <td>3.873897</td>\n      <td>4.001960</td>\n      <td>3900</td>\n      <td>0.0</td>\n      <td>0</td>\n    </tr>\n    <tr>\n      <th>3</th>\n      <td>2010-01-25</td>\n      <td>3.886704</td>\n      <td>3.982750</td>\n      <td>3.848285</td>\n      <td>3.912316</td>\n      <td>11300</td>\n      <td>0.0</td>\n      <td>0</td>\n    </tr>\n    <tr>\n      <th>4</th>\n      <td>2010-01-26</td>\n      <td>3.841882</td>\n      <td>3.912316</td>\n      <td>3.803463</td>\n      <td>3.912316</td>\n      <td>1800</td>\n      <td>0.0</td>\n      <td>0</td>\n    </tr>\n  </tbody>\n</table>\n</div>"
     },
     "metadata": {},
     "execution_count": 7
    }
   ],
   "source": [
    "hist_PORSCHE.head()"
   ]
  },
  {
   "cell_type": "code",
   "execution_count": 11,
   "metadata": {},
   "outputs": [
    {
     "output_type": "execute_result",
     "data": {
      "text/plain": [
       "Index(['DATE', 'Open', 'High', 'Low', 'Close', 'Volume', 'Dividends',\n",
       "       'Stock Splits'],\n",
       "      dtype='object')"
      ]
     },
     "metadata": {},
     "execution_count": 11
    }
   ],
   "source": [
    "hist_PORSCHE.columns"
   ]
  },
  {
   "cell_type": "code",
   "execution_count": 12,
   "metadata": {},
   "outputs": [],
   "source": [
    "hist = gethistoricalOHLC('ISRG')\n"
   ]
  },
  {
   "cell_type": "code",
   "execution_count": 13,
   "metadata": {},
   "outputs": [
    {
     "output_type": "execute_result",
     "data": {
      "text/plain": [
       "            DATE        Open        High         Low       Close  Volume  \\\n",
       "0     2000-06-16    6.041667    6.166667    6.000000    6.083333  173850   \n",
       "1     2000-06-19    6.083333    6.166667    6.000000    6.000000  454350   \n",
       "2     2000-06-20    6.020833    6.541667    5.250000    6.250000  392550   \n",
       "3     2000-06-21    6.666667    7.416667    6.416667    7.333333  780750   \n",
       "4     2000-06-22    7.375000    7.416667    6.354167    6.583333  285900   \n",
       "...          ...         ...         ...         ...         ...     ...   \n",
       "5207  2021-03-01  749.039978  760.770020  745.669983  759.210022  559200   \n",
       "5208  2021-03-02  760.000000  760.000000  746.780029  750.000000  391000   \n",
       "5209  2021-03-03  746.059998  746.059998  721.479980  727.150024  507100   \n",
       "5210  2021-03-04  725.000000  727.239990  699.030029  709.169983  808700   \n",
       "5211  2021-03-05  712.250000  718.440002  687.239990  713.369995  759100   \n",
       "\n",
       "      Dividends  Stock Splits  \n",
       "0             0           0.0  \n",
       "1             0           0.0  \n",
       "2             0           0.0  \n",
       "3             0           0.0  \n",
       "4             0           0.0  \n",
       "...         ...           ...  \n",
       "5207          0           0.0  \n",
       "5208          0           0.0  \n",
       "5209          0           0.0  \n",
       "5210          0           0.0  \n",
       "5211          0           0.0  \n",
       "\n",
       "[5212 rows x 8 columns]"
      ],
      "text/html": "<div>\n<style scoped>\n    .dataframe tbody tr th:only-of-type {\n        vertical-align: middle;\n    }\n\n    .dataframe tbody tr th {\n        vertical-align: top;\n    }\n\n    .dataframe thead th {\n        text-align: right;\n    }\n</style>\n<table border=\"1\" class=\"dataframe\">\n  <thead>\n    <tr style=\"text-align: right;\">\n      <th></th>\n      <th>DATE</th>\n      <th>Open</th>\n      <th>High</th>\n      <th>Low</th>\n      <th>Close</th>\n      <th>Volume</th>\n      <th>Dividends</th>\n      <th>Stock Splits</th>\n    </tr>\n  </thead>\n  <tbody>\n    <tr>\n      <th>0</th>\n      <td>2000-06-16</td>\n      <td>6.041667</td>\n      <td>6.166667</td>\n      <td>6.000000</td>\n      <td>6.083333</td>\n      <td>173850</td>\n      <td>0</td>\n      <td>0.0</td>\n    </tr>\n    <tr>\n      <th>1</th>\n      <td>2000-06-19</td>\n      <td>6.083333</td>\n      <td>6.166667</td>\n      <td>6.000000</td>\n      <td>6.000000</td>\n      <td>454350</td>\n      <td>0</td>\n      <td>0.0</td>\n    </tr>\n    <tr>\n      <th>2</th>\n      <td>2000-06-20</td>\n      <td>6.020833</td>\n      <td>6.541667</td>\n      <td>5.250000</td>\n      <td>6.250000</td>\n      <td>392550</td>\n      <td>0</td>\n      <td>0.0</td>\n    </tr>\n    <tr>\n      <th>3</th>\n      <td>2000-06-21</td>\n      <td>6.666667</td>\n      <td>7.416667</td>\n      <td>6.416667</td>\n      <td>7.333333</td>\n      <td>780750</td>\n      <td>0</td>\n      <td>0.0</td>\n    </tr>\n    <tr>\n      <th>4</th>\n      <td>2000-06-22</td>\n      <td>7.375000</td>\n      <td>7.416667</td>\n      <td>6.354167</td>\n      <td>6.583333</td>\n      <td>285900</td>\n      <td>0</td>\n      <td>0.0</td>\n    </tr>\n    <tr>\n      <th>...</th>\n      <td>...</td>\n      <td>...</td>\n      <td>...</td>\n      <td>...</td>\n      <td>...</td>\n      <td>...</td>\n      <td>...</td>\n      <td>...</td>\n    </tr>\n    <tr>\n      <th>5207</th>\n      <td>2021-03-01</td>\n      <td>749.039978</td>\n      <td>760.770020</td>\n      <td>745.669983</td>\n      <td>759.210022</td>\n      <td>559200</td>\n      <td>0</td>\n      <td>0.0</td>\n    </tr>\n    <tr>\n      <th>5208</th>\n      <td>2021-03-02</td>\n      <td>760.000000</td>\n      <td>760.000000</td>\n      <td>746.780029</td>\n      <td>750.000000</td>\n      <td>391000</td>\n      <td>0</td>\n      <td>0.0</td>\n    </tr>\n    <tr>\n      <th>5209</th>\n      <td>2021-03-03</td>\n      <td>746.059998</td>\n      <td>746.059998</td>\n      <td>721.479980</td>\n      <td>727.150024</td>\n      <td>507100</td>\n      <td>0</td>\n      <td>0.0</td>\n    </tr>\n    <tr>\n      <th>5210</th>\n      <td>2021-03-04</td>\n      <td>725.000000</td>\n      <td>727.239990</td>\n      <td>699.030029</td>\n      <td>709.169983</td>\n      <td>808700</td>\n      <td>0</td>\n      <td>0.0</td>\n    </tr>\n    <tr>\n      <th>5211</th>\n      <td>2021-03-05</td>\n      <td>712.250000</td>\n      <td>718.440002</td>\n      <td>687.239990</td>\n      <td>713.369995</td>\n      <td>759100</td>\n      <td>0</td>\n      <td>0.0</td>\n    </tr>\n  </tbody>\n</table>\n<p>5212 rows × 8 columns</p>\n</div>"
     },
     "metadata": {},
     "execution_count": 13
    }
   ],
   "source": [
    "hist"
   ]
  },
  {
   "cell_type": "code",
   "execution_count": 15,
   "metadata": {},
   "outputs": [
    {
     "output_type": "execute_result",
     "data": {
      "text/plain": [
       "Empty DataFrame\n",
       "Columns: [DATE, Open, High, Low, Close, Volume, Dividends, Stock Splits]\n",
       "Index: []"
      ],
      "text/html": "<div>\n<style scoped>\n    .dataframe tbody tr th:only-of-type {\n        vertical-align: middle;\n    }\n\n    .dataframe tbody tr th {\n        vertical-align: top;\n    }\n\n    .dataframe thead th {\n        text-align: right;\n    }\n</style>\n<table border=\"1\" class=\"dataframe\">\n  <thead>\n    <tr style=\"text-align: right;\">\n      <th></th>\n      <th>DATE</th>\n      <th>Open</th>\n      <th>High</th>\n      <th>Low</th>\n      <th>Close</th>\n      <th>Volume</th>\n      <th>Dividends</th>\n      <th>Stock Splits</th>\n    </tr>\n  </thead>\n  <tbody>\n  </tbody>\n</table>\n</div>"
     },
     "metadata": {},
     "execution_count": 15
    }
   ],
   "source": [
    "hist[hist['Dividends']!=0]"
   ]
  },
  {
   "cell_type": "code",
   "execution_count": 49,
   "metadata": {},
   "outputs": [],
   "source": []
  },
  {
   "cell_type": "code",
   "execution_count": 16,
   "metadata": {},
   "outputs": [],
   "source": []
  },
  {
   "cell_type": "code",
   "execution_count": 17,
   "metadata": {},
   "outputs": [
    {
     "output_type": "execute_result",
     "data": {
      "text/plain": [
       "Empty DataFrame\n",
       "Columns: [TICKER, FIRST_DATE_OHLC, LAST_DATE_OHLC, SOURCE, FILEPATH]\n",
       "Index: []"
      ],
      "text/html": "<div>\n<style scoped>\n    .dataframe tbody tr th:only-of-type {\n        vertical-align: middle;\n    }\n\n    .dataframe tbody tr th {\n        vertical-align: top;\n    }\n\n    .dataframe thead th {\n        text-align: right;\n    }\n</style>\n<table border=\"1\" class=\"dataframe\">\n  <thead>\n    <tr style=\"text-align: right;\">\n      <th></th>\n      <th>TICKER</th>\n      <th>FIRST_DATE_OHLC</th>\n      <th>LAST_DATE_OHLC</th>\n      <th>SOURCE</th>\n      <th>FILEPATH</th>\n    </tr>\n  </thead>\n  <tbody>\n  </tbody>\n</table>\n</div>"
     },
     "metadata": {},
     "execution_count": 17
    }
   ],
   "source": []
  },
  {
   "cell_type": "code",
   "execution_count": 35,
   "metadata": {},
   "outputs": [
    {
     "output_type": "execute_result",
     "data": {
      "text/plain": [
       "WindowsPath('C:/Users/phili/Google Drive/Code_for_bothComputers/PythonStockMarketEvalTool/PythonStockScreener/01_data/01_price_data/masterDF.csv')"
      ]
     },
     "metadata": {},
     "execution_count": 35
    }
   ],
   "source": []
  },
  {
   "cell_type": "code",
   "execution_count": 48,
   "metadata": {},
   "outputs": [
    {
     "output_type": "execute_result",
     "data": {
      "text/plain": [
       "WindowsPath('C:/Users/phili/Google Drive/Code_for_bothComputers/PythonStockMarketEvalTool/PythonStockScreener/01_data/01_price_data/MSFT')"
      ]
     },
     "metadata": {},
     "execution_count": 48
    }
   ],
   "source": []
  },
  {
   "cell_type": "code",
   "execution_count": null,
   "metadata": {},
   "outputs": [],
   "source": []
  }
 ]
}