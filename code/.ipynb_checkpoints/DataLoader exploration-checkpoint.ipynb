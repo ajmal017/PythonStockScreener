{
 "cells": [
  {
   "cell_type": "markdown",
   "metadata": {},
   "source": [
    "# dataloader notebook \n",
    "loading data from disk to actually get a dataframe ready for training"
   ]
  },
  {
   "cell_type": "code",
   "execution_count": 1,
   "metadata": {
    "ExecuteTime": {
     "end_time": "2021-03-19T15:43:51.332302Z",
     "start_time": "2021-03-19T15:43:44.476244Z"
    }
   },
   "outputs": [],
   "source": [
    "# Import statements\n",
    "import yfinance as yf\n",
    "import pandas as pd\n",
    "import os\n",
    "import numpy as np\n",
    "from datetime import date\n",
    "from pathlib import Path\n",
    "import pandas_ta as ta\n",
    "from tqdm import tqdm\n",
    "from price_data_pull_yfinance import gethistoricalOHLC, saveHistStockData, loadHistDataFromDisk\n",
    "\n",
    "from global_vars import dataPathToOHLC, pathToMasterDF, float16Cols, float32Cols, dataPathToTechIndicators"
   ]
  },
  {
   "cell_type": "code",
   "execution_count": 2,
   "metadata": {
    "ExecuteTime": {
     "end_time": "2021-03-19T15:43:58.473129Z",
     "start_time": "2021-03-19T15:43:58.442008Z"
    }
   },
   "outputs": [],
   "source": [
    "pd.set_option('display.max_columns', 500)"
   ]
  },
  {
   "cell_type": "markdown",
   "metadata": {},
   "source": [
    "## Import all important stuff"
   ]
  },
  {
   "cell_type": "code",
   "execution_count": 5,
   "metadata": {
    "ExecuteTime": {
     "end_time": "2021-03-19T15:52:11.755041Z",
     "start_time": "2021-03-19T15:52:11.724177Z"
    }
   },
   "outputs": [],
   "source": [
    "masterDf = pd.read_csv(pathToMasterDF);\n",
    "tickerDF = pd.read_csv('../01_data/SnP500_constituents.csv')\n",
    "mdf = masterDf"
   ]
  },
  {
   "cell_type": "markdown",
   "metadata": {},
   "source": [
    "## data sanity checks\n",
    "Lets check all the data that we have on disk and compare it with the data that should be the tickers."
   ]
  },
  {
   "cell_type": "code",
   "execution_count": 28,
   "metadata": {},
   "outputs": [],
   "source": [
    "symbol_list = tickerDF.Symbol.to_list();\n",
    "ticker_list = mdf[mdf.FILEPATH_TECH_IND_CALC != ''].TICKER.to_list()"
   ]
  },
  {
   "cell_type": "code",
   "execution_count": 41,
   "metadata": {},
   "outputs": [],
   "source": [
    "def getTickersOnDisk(path):\n",
    "    \n",
    "    arr = os.listdir(path)\n",
    "    tickers_on_disk = [ticker.split('_')[0] for ticker in arr]\n",
    "    return tickers_on_disk"
   ]
  },
  {
   "cell_type": "code",
   "execution_count": 43,
   "metadata": {},
   "outputs": [
    {
     "data": {
      "text/plain": [
       "['AAL', 'AAPL', 'AAP', 'ABBV', 'ABC']"
      ]
     },
     "execution_count": 43,
     "metadata": {},
     "output_type": "execute_result"
    }
   ],
   "source": [
    "tickers_on_disk = getTickersOnDisk('../01_data/01_price_data/01_price_data_w_tech_indicators/');\n",
    "tickers_on_disk[:5]"
   ]
  },
  {
   "cell_type": "code",
   "execution_count": 46,
   "metadata": {},
   "outputs": [],
   "source": [
    "problematic_tickers = [ticker for ticker in ticker_list if ticker not in tickers_on_disk]"
   ]
  },
  {
   "cell_type": "code",
   "execution_count": null,
   "metadata": {},
   "outputs": [],
   "source": []
  },
  {
   "cell_type": "code",
   "execution_count": null,
   "metadata": {},
   "outputs": [],
   "source": []
  },
  {
   "cell_type": "code",
   "execution_count": 25,
   "metadata": {},
   "outputs": [],
   "source": [
    "problematicTickers = [\"BRK.B\", \"KO\", \"DVN\", \"EMN\", \"ECL\", \"HES\", \"MSI\", \"NVDA\", \"PGR\", \"RF\", \"TXT\", \"MOS\", \"WHR\", \"WMB\", \"XRX\"]"
   ]
  },
  {
   "cell_type": "code",
   "execution_count": 22,
   "metadata": {},
   "outputs": [],
   "source": [
    "masterDf.to_csv(pathToMasterDF, index=False)"
   ]
  },
  {
   "cell_type": "markdown",
   "metadata": {},
   "source": [
    "### check some of the problematic results\n"
   ]
  },
  {
   "cell_type": "code",
   "execution_count": 34,
   "metadata": {},
   "outputs": [
    {
     "data": {
      "text/html": [
       "<div>\n",
       "<style scoped>\n",
       "    .dataframe tbody tr th:only-of-type {\n",
       "        vertical-align: middle;\n",
       "    }\n",
       "\n",
       "    .dataframe tbody tr th {\n",
       "        vertical-align: top;\n",
       "    }\n",
       "\n",
       "    .dataframe thead th {\n",
       "        text-align: right;\n",
       "    }\n",
       "</style>\n",
       "<table border=\"1\" class=\"dataframe\">\n",
       "  <thead>\n",
       "    <tr style=\"text-align: right;\">\n",
       "      <th></th>\n",
       "      <th>Date</th>\n",
       "      <th>Open</th>\n",
       "      <th>High</th>\n",
       "      <th>Low</th>\n",
       "      <th>Close</th>\n",
       "      <th>Volume</th>\n",
       "      <th>Dividends</th>\n",
       "      <th>Stock Splits</th>\n",
       "    </tr>\n",
       "  </thead>\n",
       "  <tbody>\n",
       "    <tr>\n",
       "      <th>0</th>\n",
       "      <td>1990-01-02</td>\n",
       "      <td>0.572266</td>\n",
       "      <td>0.577637</td>\n",
       "      <td>0.568359</td>\n",
       "      <td>0.575684</td>\n",
       "      <td>889200.0</td>\n",
       "      <td>0.0</td>\n",
       "      <td>0.0</td>\n",
       "    </tr>\n",
       "    <tr>\n",
       "      <th>1</th>\n",
       "      <td>1990-01-03</td>\n",
       "      <td>0.577637</td>\n",
       "      <td>0.586914</td>\n",
       "      <td>0.577637</td>\n",
       "      <td>0.579590</td>\n",
       "      <td>1198800.0</td>\n",
       "      <td>0.0</td>\n",
       "      <td>0.0</td>\n",
       "    </tr>\n",
       "    <tr>\n",
       "      <th>2</th>\n",
       "      <td>1990-01-04</td>\n",
       "      <td>0.575684</td>\n",
       "      <td>0.575684</td>\n",
       "      <td>0.573730</td>\n",
       "      <td>0.575684</td>\n",
       "      <td>1760400.0</td>\n",
       "      <td>0.0</td>\n",
       "      <td>0.0</td>\n",
       "    </tr>\n",
       "    <tr>\n",
       "      <th>3</th>\n",
       "      <td>1990-01-05</td>\n",
       "      <td>0.575684</td>\n",
       "      <td>0.579590</td>\n",
       "      <td>0.575684</td>\n",
       "      <td>0.577637</td>\n",
       "      <td>100800.0</td>\n",
       "      <td>0.0</td>\n",
       "      <td>0.0</td>\n",
       "    </tr>\n",
       "    <tr>\n",
       "      <th>4</th>\n",
       "      <td>1990-01-08</td>\n",
       "      <td>0.575684</td>\n",
       "      <td>0.579590</td>\n",
       "      <td>0.575684</td>\n",
       "      <td>0.579590</td>\n",
       "      <td>644400.0</td>\n",
       "      <td>0.0</td>\n",
       "      <td>0.0</td>\n",
       "    </tr>\n",
       "  </tbody>\n",
       "</table>\n",
       "</div>"
      ],
      "text/plain": [
       "        Date      Open      High       Low     Close     Volume  Dividends  \\\n",
       "0 1990-01-02  0.572266  0.577637  0.568359  0.575684   889200.0        0.0   \n",
       "1 1990-01-03  0.577637  0.586914  0.577637  0.579590  1198800.0        0.0   \n",
       "2 1990-01-04  0.575684  0.575684  0.573730  0.575684  1760400.0        0.0   \n",
       "3 1990-01-05  0.575684  0.579590  0.575684  0.577637   100800.0        0.0   \n",
       "4 1990-01-08  0.575684  0.579590  0.575684  0.579590   644400.0        0.0   \n",
       "\n",
       "   Stock Splits  \n",
       "0           0.0  \n",
       "1           0.0  \n",
       "2           0.0  \n",
       "3           0.0  \n",
       "4           0.0  "
      ]
     },
     "execution_count": 34,
     "metadata": {},
     "output_type": "execute_result"
    }
   ],
   "source": [
    "df = loadHistDataFromDisk('PGR')\n",
    "df.head()"
   ]
  },
  {
   "cell_type": "markdown",
   "metadata": {},
   "source": [
    "## Technical Indicator Strategies\n",
    "Based on the implementation of https://github.com/twopirllc/pandas-ta"
   ]
  },
  {
   "cell_type": "code",
   "execution_count": 16,
   "metadata": {},
   "outputs": [],
   "source": [
    "df = loadHistDataFromDisk('AAPL')\n",
    "df.set_index(pd.DatetimeIndex(df['Date']), inplace = True);\n",
    "df = df.drop('Date',axis = 1);"
   ]
  },
  {
   "cell_type": "code",
   "execution_count": 73,
   "metadata": {},
   "outputs": [],
   "source": [
    "df = df.iloc[:1000]"
   ]
  },
  {
   "cell_type": "markdown",
   "metadata": {},
   "source": [
    "#### Candles Technical Indicators"
   ]
  },
  {
   "cell_type": "code",
   "execution_count": 75,
   "metadata": {},
   "outputs": [
    {
     "name": "stdout",
     "output_type": "stream",
     "text": [
      "There have been 0 features added\n"
     ]
    }
   ],
   "source": [
    "before = len(df.columns)\n",
    "df.ta.strategy('Candles')\n",
    "after = len(df.columns)\n",
    "print(f'There have been {after-before} features added')"
   ]
  },
  {
   "cell_type": "markdown",
   "metadata": {},
   "source": [
    "#### Cycles Technical Indicators"
   ]
  },
  {
   "cell_type": "code",
   "execution_count": 78,
   "metadata": {},
   "outputs": [
    {
     "name": "stdout",
     "output_type": "stream",
     "text": [
      "There have been 1 features added\n"
     ]
    }
   ],
   "source": [
    "before = len(df.columns)\n",
    "df.ta.strategy('Cycles')\n",
    "after = len(df.columns)\n",
    "print(f'There have been {after-before} features added')"
   ]
  },
  {
   "cell_type": "markdown",
   "metadata": {},
   "source": [
    "#### Overlap Technical Indicators"
   ]
  },
  {
   "cell_type": "code",
   "execution_count": 80,
   "metadata": {
    "scrolled": true
   },
   "outputs": [
    {
     "name": "stdout",
     "output_type": "stream",
     "text": [
      "There have been 40 features added\n"
     ]
    }
   ],
   "source": [
    "before = len(df.columns)\n",
    "df.ta.strategy('Overlap')\n",
    "after = len(df.columns)\n",
    "print(f'There have been {after-before} features added')"
   ]
  },
  {
   "cell_type": "markdown",
   "metadata": {},
   "source": [
    "#### Momentum Technical Indicators"
   ]
  },
  {
   "cell_type": "code",
   "execution_count": 79,
   "metadata": {},
   "outputs": [
    {
     "name": "stdout",
     "output_type": "stream",
     "text": [
      "There have been 60 features added\n"
     ]
    }
   ],
   "source": [
    "before = len(df.columns)\n",
    "df.ta.strategy('Momentum')\n",
    "after = len(df.columns)\n",
    "print(f'There have been {after-before} features added')"
   ]
  },
  {
   "cell_type": "markdown",
   "metadata": {},
   "source": [
    "#### Statistics Technical Indicators"
   ]
  },
  {
   "cell_type": "code",
   "execution_count": 82,
   "metadata": {},
   "outputs": [
    {
     "name": "stdout",
     "output_type": "stream",
     "text": [
      "There have been 9 features added\n"
     ]
    }
   ],
   "source": [
    "before = len(df.columns)\n",
    "df.ta.strategy('Statistics')\n",
    "after = len(df.columns)\n",
    "print(f'There have been {after-before} features added')"
   ]
  },
  {
   "cell_type": "markdown",
   "metadata": {},
   "source": [
    "#### Trend Technical Indicators"
   ]
  },
  {
   "cell_type": "code",
   "execution_count": 83,
   "metadata": {},
   "outputs": [
    {
     "name": "stdout",
     "output_type": "stream",
     "text": [
      "There have been 23 features added\n"
     ]
    }
   ],
   "source": [
    "before = len(df.columns)\n",
    "df.ta.strategy('Trend')\n",
    "after = len(df.columns)\n",
    "print(f'There have been {after-before} features added')"
   ]
  },
  {
   "cell_type": "markdown",
   "metadata": {},
   "source": [
    "#### Volatility Technical Indicators"
   ]
  },
  {
   "cell_type": "code",
   "execution_count": 85,
   "metadata": {},
   "outputs": [
    {
     "name": "stdout",
     "output_type": "stream",
     "text": [
      "There have been 31 features added\n"
     ]
    }
   ],
   "source": [
    "before = len(df.columns)\n",
    "df.ta.strategy('Volatility')\n",
    "after = len(df.columns)\n",
    "print(f'There have been {after-before} features added')"
   ]
  },
  {
   "cell_type": "markdown",
   "metadata": {},
   "source": [
    "#### Volume Technical Indicators"
   ]
  },
  {
   "cell_type": "code",
   "execution_count": 86,
   "metadata": {},
   "outputs": [
    {
     "name": "stdout",
     "output_type": "stream",
     "text": [
      "There have been 18 features added\n"
     ]
    }
   ],
   "source": [
    "before = len(df.columns)\n",
    "df.ta.strategy('Volume')\n",
    "after = len(df.columns)\n",
    "print(f'There have been {after-before} features added')"
   ]
  }
 ],
 "metadata": {
  "kernelspec": {
   "display_name": "Python 3",
   "language": "python",
   "name": "python3"
  },
  "language_info": {
   "codemirror_mode": {
    "name": "ipython",
    "version": 3
   },
   "file_extension": ".py",
   "mimetype": "text/x-python",
   "name": "python",
   "nbconvert_exporter": "python",
   "pygments_lexer": "ipython3",
   "version": "3.8.5"
  },
  "varInspector": {
   "cols": {
    "lenName": 16,
    "lenType": 16,
    "lenVar": 40
   },
   "kernels_config": {
    "python": {
     "delete_cmd_postfix": "",
     "delete_cmd_prefix": "del ",
     "library": "var_list.py",
     "varRefreshCmd": "print(var_dic_list())"
    },
    "r": {
     "delete_cmd_postfix": ") ",
     "delete_cmd_prefix": "rm(",
     "library": "var_list.r",
     "varRefreshCmd": "cat(var_dic_list()) "
    }
   },
   "types_to_exclude": [
    "module",
    "function",
    "builtin_function_or_method",
    "instance",
    "_Feature"
   ],
   "window_display": false
  }
 },
 "nbformat": 4,
 "nbformat_minor": 4
}
