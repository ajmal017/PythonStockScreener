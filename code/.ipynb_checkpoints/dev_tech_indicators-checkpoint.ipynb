{
 "cells": [
  {
   "cell_type": "code",
   "execution_count": 1,
   "metadata": {
    "ExecuteTime": {
     "end_time": "2021-03-19T15:43:51.332302Z",
     "start_time": "2021-03-19T15:43:44.476244Z"
    }
   },
   "outputs": [],
   "source": [
    "# Import statements\n",
    "import yfinance as yf\n",
    "import pandas as pd\n",
    "import os\n",
    "import numpy as np\n",
    "from datetime import date\n",
    "from pathlib import Path\n",
    "import pandas_ta as ta\n",
    "from tqdm import tqdm\n",
    "from price_data_pull_yfinance import gethistoricalOHLC, saveHistStockData, loadHistDataFromDisk\n",
    "\n",
    "from global_vars import dataPathToOHLC, pathToMasterDF, float16Cols, float32Cols, dataPathToTechIndicators"
   ]
  },
  {
   "cell_type": "code",
   "execution_count": 2,
   "metadata": {
    "ExecuteTime": {
     "end_time": "2021-03-19T15:43:58.473129Z",
     "start_time": "2021-03-19T15:43:58.442008Z"
    }
   },
   "outputs": [],
   "source": [
    "pd.set_option('display.max_columns', 500)"
   ]
  },
  {
   "cell_type": "code",
   "execution_count": 3,
   "metadata": {
    "ExecuteTime": {
     "end_time": "2021-03-19T15:52:11.755041Z",
     "start_time": "2021-03-19T15:52:11.724177Z"
    }
   },
   "outputs": [],
   "source": [
    "masterDf = pd.read_csv(pathToMasterDF);\n",
    "tickerDF = pd.read_csv('../01_data/SnP500_constituents.csv');\n",
    "masterDf = pd.merge(masterDf, tickerDF[['Symbol', 'Sector']], how='right', left_on=['TICKER'], right_on=['Symbol']).drop('Symbol', axis=1)"
   ]
  },
  {
   "cell_type": "code",
   "execution_count": 4,
   "metadata": {},
   "outputs": [],
   "source": [
    "masterDf.rename(columns = {'Sector': 'SECTOR'}, inplace = True)\n"
   ]
  },
  {
   "cell_type": "code",
   "execution_count": 9,
   "metadata": {},
   "outputs": [],
   "source": [
    "masterDf['FILEPATH_TECH_IND_CALC'] = ''"
   ]
  },
  {
   "cell_type": "code",
   "execution_count": 10,
   "metadata": {},
   "outputs": [
    {
     "data": {
      "text/html": [
       "<div>\n",
       "<style scoped>\n",
       "    .dataframe tbody tr th:only-of-type {\n",
       "        vertical-align: middle;\n",
       "    }\n",
       "\n",
       "    .dataframe tbody tr th {\n",
       "        vertical-align: top;\n",
       "    }\n",
       "\n",
       "    .dataframe thead th {\n",
       "        text-align: right;\n",
       "    }\n",
       "</style>\n",
       "<table border=\"1\" class=\"dataframe\">\n",
       "  <thead>\n",
       "    <tr style=\"text-align: right;\">\n",
       "      <th></th>\n",
       "      <th>TICKER</th>\n",
       "      <th>FIRST_DATE_OHLC</th>\n",
       "      <th>LAST_DATE_OHLC</th>\n",
       "      <th>FILEPATH</th>\n",
       "      <th>SECTOR</th>\n",
       "      <th>FILEPATH_TECH_IND_CALC</th>\n",
       "    </tr>\n",
       "  </thead>\n",
       "  <tbody>\n",
       "    <tr>\n",
       "      <th>0</th>\n",
       "      <td>MMM</td>\n",
       "      <td>1990-01-02</td>\n",
       "      <td>2021-03-19</td>\n",
       "      <td>C:\\Users\\Philipp\\Google Drive\\Code_for_bothCom...</td>\n",
       "      <td>Industrials</td>\n",
       "      <td></td>\n",
       "    </tr>\n",
       "    <tr>\n",
       "      <th>1</th>\n",
       "      <td>AOS</td>\n",
       "      <td>1990-01-02</td>\n",
       "      <td>2021-03-19</td>\n",
       "      <td>C:\\Users\\Philipp\\Google Drive\\Code_for_bothCom...</td>\n",
       "      <td>Industrials</td>\n",
       "      <td></td>\n",
       "    </tr>\n",
       "    <tr>\n",
       "      <th>2</th>\n",
       "      <td>ABT</td>\n",
       "      <td>1990-01-02</td>\n",
       "      <td>2021-03-19</td>\n",
       "      <td>C:\\Users\\Philipp\\Google Drive\\Code_for_bothCom...</td>\n",
       "      <td>Health Care</td>\n",
       "      <td></td>\n",
       "    </tr>\n",
       "    <tr>\n",
       "      <th>3</th>\n",
       "      <td>ABBV</td>\n",
       "      <td>2013-01-02</td>\n",
       "      <td>2021-03-19</td>\n",
       "      <td>C:\\Users\\Philipp\\Google Drive\\Code_for_bothCom...</td>\n",
       "      <td>Health Care</td>\n",
       "      <td></td>\n",
       "    </tr>\n",
       "    <tr>\n",
       "      <th>4</th>\n",
       "      <td>ABMD</td>\n",
       "      <td>1990-01-02</td>\n",
       "      <td>2021-03-19</td>\n",
       "      <td>C:\\Users\\Philipp\\Google Drive\\Code_for_bothCom...</td>\n",
       "      <td>Health Care</td>\n",
       "      <td></td>\n",
       "    </tr>\n",
       "    <tr>\n",
       "      <th>...</th>\n",
       "      <td>...</td>\n",
       "      <td>...</td>\n",
       "      <td>...</td>\n",
       "      <td>...</td>\n",
       "      <td>...</td>\n",
       "      <td>...</td>\n",
       "    </tr>\n",
       "    <tr>\n",
       "      <th>500</th>\n",
       "      <td>YUM</td>\n",
       "      <td>1997-09-17</td>\n",
       "      <td>2021-03-19</td>\n",
       "      <td>C:\\Users\\Philipp\\Google Drive\\Code_for_bothCom...</td>\n",
       "      <td>Consumer Discretionary</td>\n",
       "      <td></td>\n",
       "    </tr>\n",
       "    <tr>\n",
       "      <th>501</th>\n",
       "      <td>ZBRA</td>\n",
       "      <td>1991-08-15</td>\n",
       "      <td>2021-03-19</td>\n",
       "      <td>C:\\Users\\Philipp\\Google Drive\\Code_for_bothCom...</td>\n",
       "      <td>Information Technology</td>\n",
       "      <td></td>\n",
       "    </tr>\n",
       "    <tr>\n",
       "      <th>502</th>\n",
       "      <td>ZBH</td>\n",
       "      <td>2001-07-25</td>\n",
       "      <td>2021-03-19</td>\n",
       "      <td>C:\\Users\\Philipp\\Google Drive\\Code_for_bothCom...</td>\n",
       "      <td>Health Care</td>\n",
       "      <td></td>\n",
       "    </tr>\n",
       "    <tr>\n",
       "      <th>503</th>\n",
       "      <td>ZION</td>\n",
       "      <td>1990-01-02</td>\n",
       "      <td>2021-03-19</td>\n",
       "      <td>C:\\Users\\Philipp\\Google Drive\\Code_for_bothCom...</td>\n",
       "      <td>Financials</td>\n",
       "      <td></td>\n",
       "    </tr>\n",
       "    <tr>\n",
       "      <th>504</th>\n",
       "      <td>ZTS</td>\n",
       "      <td>2013-02-01</td>\n",
       "      <td>2021-03-19</td>\n",
       "      <td>C:\\Users\\Philipp\\Google Drive\\Code_for_bothCom...</td>\n",
       "      <td>Health Care</td>\n",
       "      <td></td>\n",
       "    </tr>\n",
       "  </tbody>\n",
       "</table>\n",
       "<p>505 rows × 6 columns</p>\n",
       "</div>"
      ],
      "text/plain": [
       "    TICKER FIRST_DATE_OHLC LAST_DATE_OHLC  \\\n",
       "0      MMM      1990-01-02     2021-03-19   \n",
       "1      AOS      1990-01-02     2021-03-19   \n",
       "2      ABT      1990-01-02     2021-03-19   \n",
       "3     ABBV      2013-01-02     2021-03-19   \n",
       "4     ABMD      1990-01-02     2021-03-19   \n",
       "..     ...             ...            ...   \n",
       "500    YUM      1997-09-17     2021-03-19   \n",
       "501   ZBRA      1991-08-15     2021-03-19   \n",
       "502    ZBH      2001-07-25     2021-03-19   \n",
       "503   ZION      1990-01-02     2021-03-19   \n",
       "504    ZTS      2013-02-01     2021-03-19   \n",
       "\n",
       "                                              FILEPATH  \\\n",
       "0    C:\\Users\\Philipp\\Google Drive\\Code_for_bothCom...   \n",
       "1    C:\\Users\\Philipp\\Google Drive\\Code_for_bothCom...   \n",
       "2    C:\\Users\\Philipp\\Google Drive\\Code_for_bothCom...   \n",
       "3    C:\\Users\\Philipp\\Google Drive\\Code_for_bothCom...   \n",
       "4    C:\\Users\\Philipp\\Google Drive\\Code_for_bothCom...   \n",
       "..                                                 ...   \n",
       "500  C:\\Users\\Philipp\\Google Drive\\Code_for_bothCom...   \n",
       "501  C:\\Users\\Philipp\\Google Drive\\Code_for_bothCom...   \n",
       "502  C:\\Users\\Philipp\\Google Drive\\Code_for_bothCom...   \n",
       "503  C:\\Users\\Philipp\\Google Drive\\Code_for_bothCom...   \n",
       "504  C:\\Users\\Philipp\\Google Drive\\Code_for_bothCom...   \n",
       "\n",
       "                     SECTOR FILEPATH_TECH_IND_CALC  \n",
       "0               Industrials                         \n",
       "1               Industrials                         \n",
       "2               Health Care                         \n",
       "3               Health Care                         \n",
       "4               Health Care                         \n",
       "..                      ...                    ...  \n",
       "500  Consumer Discretionary                         \n",
       "501  Information Technology                         \n",
       "502             Health Care                         \n",
       "503              Financials                         \n",
       "504             Health Care                         \n",
       "\n",
       "[505 rows x 6 columns]"
      ]
     },
     "execution_count": 10,
     "metadata": {},
     "output_type": "execute_result"
    }
   ],
   "source": [
    "masterDf"
   ]
  },
  {
   "cell_type": "markdown",
   "metadata": {
    "ExecuteTime": {
     "end_time": "2021-03-19T15:47:04.118810Z",
     "start_time": "2021-03-19T15:47:04.086988Z"
    }
   },
   "source": [
    "### Get the data from the masterDF and calculate the technical indicators"
   ]
  },
  {
   "cell_type": "code",
   "execution_count": 11,
   "metadata": {},
   "outputs": [],
   "source": [
    "currMasterDF = masterDf.head(2)"
   ]
  },
  {
   "cell_type": "code",
   "execution_count": 32,
   "metadata": {},
   "outputs": [],
   "source": [
    "def batchCalculationOfTechnicalIndicators(masterdf, pathToOutpu = dataPathToTechIndicators, strategyList = 'all'):\n",
    "    for index, row in tqdm(masterdf.iterrows(), total=masterdf.shape[0], leave = False):\n",
    "        # get the ticker from the current row\n",
    "        ticker = row[0]\n",
    "\n",
    "        # load the data from disk\n",
    "        df = loadHistDataFromDisk(ticker)\n",
    "        df.set_index(pd.DatetimeIndex(df['Date']), inplace = True);\n",
    "        df = df.drop('Date',axis = 1);\n",
    "\n",
    "        # calculate the technical indicators\n",
    "        df.ta.log_return(cumalative=True,append=True);\n",
    "        \n",
    "        # check if a different strategy has been supplied \n",
    "        if strategyList == 'all':\n",
    "            strategyList = ['Candles', 'Cycles', 'Overlap', 'Momentum', 'Statistics','Trend', 'Volatility', 'Volume']\n",
    "        \n",
    "        # loop through the strategies and calculate the technical indicators \n",
    "        for strategy in tqdm(strategyList, leave = False):\n",
    "            try:\n",
    "                df.ta.strategy(strategy)\n",
    "            except:\n",
    "                print(f\"There has been a problem calculating the techincal indicator for {strategy} for the ticker {ticker}.\")\n",
    "\n",
    "        # save the created dataframe to disk \n",
    "        try:\n",
    "            tickerFilename = ticker + '_tech_ind_calculated'\n",
    "            filepath = dataPathToTechIndicators.joinpath(\n",
    "                tickerFilename\n",
    "            )\n",
    "            df = df.reset_index()\n",
    "            df.to_feather(filepath)\n",
    "        except:\n",
    "            print(f'Could not save the calculated technical indicators for the ticker {ticker}!')\n",
    "        \n",
    "        # add a reference to the masterDF\n",
    "        try:\n",
    "            masterdf.loc[masterdf.TICKER == ticker, 'FILEPATH_TECH_IND_CALC'] = filepath\n",
    "        except:\n",
    "            print(f'Did not write the {ticker}-technical indicator filetpath to masterDf!') "
   ]
  },
  {
   "cell_type": "code",
   "execution_count": 31,
   "metadata": {},
   "outputs": [
    {
     "name": "stderr",
     "output_type": "stream",
     "text": [
      "  0%|          | 0/2 [00:00<?, ?it/s]\n",
      "  0%|          | 0/1 [00:00<?, ?it/s]\u001b[A\n",
      "100%|██████████| 1/1 [00:03<00:00,  3.18s/it]\u001b[A\n",
      " 50%|█████     | 1/2 [00:03<00:03,  3.22s/it]\u001b[A\n",
      "  0%|          | 0/1 [00:00<?, ?it/s]\u001b[A\n",
      "100%|██████████| 1/1 [00:01<00:00,  1.66s/it]\u001b[A\n",
      "                                             \u001b[A\r"
     ]
    }
   ],
   "source": [
    "batchCalculationOfTechnicalIndicators(masterDf.tail(2))"
   ]
  },
  {
   "cell_type": "markdown",
   "metadata": {},
   "source": [
    "## Technical Indicator Strategies\n",
    "Based on the implementation of https://github.com/twopirllc/pandas-ta"
   ]
  },
  {
   "cell_type": "code",
   "execution_count": 16,
   "metadata": {},
   "outputs": [],
   "source": [
    "df = loadHistDataFromDisk('AAPL')\n",
    "df.set_index(pd.DatetimeIndex(df['Date']), inplace = True);\n",
    "df = df.drop('Date',axis = 1);"
   ]
  },
  {
   "cell_type": "code",
   "execution_count": 73,
   "metadata": {},
   "outputs": [],
   "source": [
    "df = df.iloc[:1000]"
   ]
  },
  {
   "cell_type": "markdown",
   "metadata": {},
   "source": [
    "#### Candles Technical Indicators"
   ]
  },
  {
   "cell_type": "code",
   "execution_count": 75,
   "metadata": {},
   "outputs": [
    {
     "name": "stdout",
     "output_type": "stream",
     "text": [
      "There have been 0 features added\n"
     ]
    }
   ],
   "source": [
    "before = len(df.columns)\n",
    "df.ta.strategy('Candles')\n",
    "after = len(df.columns)\n",
    "print(f'There have been {after-before} features added')"
   ]
  },
  {
   "cell_type": "markdown",
   "metadata": {},
   "source": [
    "#### Cycles Technical Indicators"
   ]
  },
  {
   "cell_type": "code",
   "execution_count": 78,
   "metadata": {},
   "outputs": [
    {
     "name": "stdout",
     "output_type": "stream",
     "text": [
      "There have been 1 features added\n"
     ]
    }
   ],
   "source": [
    "before = len(df.columns)\n",
    "df.ta.strategy('Cycles')\n",
    "after = len(df.columns)\n",
    "print(f'There have been {after-before} features added')"
   ]
  },
  {
   "cell_type": "markdown",
   "metadata": {},
   "source": [
    "#### Overlap Technical Indicators"
   ]
  },
  {
   "cell_type": "code",
   "execution_count": 80,
   "metadata": {
    "scrolled": true
   },
   "outputs": [
    {
     "name": "stdout",
     "output_type": "stream",
     "text": [
      "There have been 40 features added\n"
     ]
    }
   ],
   "source": [
    "before = len(df.columns)\n",
    "df.ta.strategy('Overlap')\n",
    "after = len(df.columns)\n",
    "print(f'There have been {after-before} features added')"
   ]
  },
  {
   "cell_type": "markdown",
   "metadata": {},
   "source": [
    "#### Momentum Technical Indicators"
   ]
  },
  {
   "cell_type": "code",
   "execution_count": 79,
   "metadata": {},
   "outputs": [
    {
     "name": "stdout",
     "output_type": "stream",
     "text": [
      "There have been 60 features added\n"
     ]
    }
   ],
   "source": [
    "before = len(df.columns)\n",
    "df.ta.strategy('Momentum')\n",
    "after = len(df.columns)\n",
    "print(f'There have been {after-before} features added')"
   ]
  },
  {
   "cell_type": "markdown",
   "metadata": {},
   "source": [
    "#### Statistics Technical Indicators"
   ]
  },
  {
   "cell_type": "code",
   "execution_count": 82,
   "metadata": {},
   "outputs": [
    {
     "name": "stdout",
     "output_type": "stream",
     "text": [
      "There have been 9 features added\n"
     ]
    }
   ],
   "source": [
    "before = len(df.columns)\n",
    "df.ta.strategy('Statistics')\n",
    "after = len(df.columns)\n",
    "print(f'There have been {after-before} features added')"
   ]
  },
  {
   "cell_type": "markdown",
   "metadata": {},
   "source": [
    "#### Trend Technical Indicators"
   ]
  },
  {
   "cell_type": "code",
   "execution_count": 83,
   "metadata": {},
   "outputs": [
    {
     "name": "stdout",
     "output_type": "stream",
     "text": [
      "There have been 23 features added\n"
     ]
    }
   ],
   "source": [
    "before = len(df.columns)\n",
    "df.ta.strategy('Trend')\n",
    "after = len(df.columns)\n",
    "print(f'There have been {after-before} features added')"
   ]
  },
  {
   "cell_type": "markdown",
   "metadata": {},
   "source": [
    "#### Volatility Technical Indicators"
   ]
  },
  {
   "cell_type": "code",
   "execution_count": 85,
   "metadata": {},
   "outputs": [
    {
     "name": "stdout",
     "output_type": "stream",
     "text": [
      "There have been 31 features added\n"
     ]
    }
   ],
   "source": [
    "before = len(df.columns)\n",
    "df.ta.strategy('Volatility')\n",
    "after = len(df.columns)\n",
    "print(f'There have been {after-before} features added')"
   ]
  },
  {
   "cell_type": "markdown",
   "metadata": {},
   "source": [
    "#### Volume Technical Indicators"
   ]
  },
  {
   "cell_type": "code",
   "execution_count": 86,
   "metadata": {},
   "outputs": [
    {
     "name": "stdout",
     "output_type": "stream",
     "text": [
      "There have been 18 features added\n"
     ]
    }
   ],
   "source": [
    "before = len(df.columns)\n",
    "df.ta.strategy('Volume')\n",
    "after = len(df.columns)\n",
    "print(f'There have been {after-before} features added')"
   ]
  },
  {
   "cell_type": "code",
   "execution_count": 43,
   "metadata": {},
   "outputs": [
    {
     "data": {
      "text/html": [
       "<div>\n",
       "<style scoped>\n",
       "    .dataframe tbody tr th:only-of-type {\n",
       "        vertical-align: middle;\n",
       "    }\n",
       "\n",
       "    .dataframe tbody tr th {\n",
       "        vertical-align: top;\n",
       "    }\n",
       "\n",
       "    .dataframe thead th {\n",
       "        text-align: right;\n",
       "    }\n",
       "</style>\n",
       "<table border=\"1\" class=\"dataframe\">\n",
       "  <thead>\n",
       "    <tr style=\"text-align: right;\">\n",
       "      <th></th>\n",
       "      <th>TICKER</th>\n",
       "      <th>FIRST_DATE_OHLC</th>\n",
       "      <th>LAST_DATE_OHLC</th>\n",
       "      <th>FILEPATH</th>\n",
       "      <th>SECTOR</th>\n",
       "    </tr>\n",
       "  </thead>\n",
       "  <tbody>\n",
       "    <tr>\n",
       "      <th>0</th>\n",
       "      <td>MMM</td>\n",
       "      <td>1990-01-02</td>\n",
       "      <td>2021-03-19</td>\n",
       "      <td>C:\\Users\\Philipp\\Google Drive\\Code_for_bothCom...</td>\n",
       "      <td>Industrials</td>\n",
       "    </tr>\n",
       "    <tr>\n",
       "      <th>1</th>\n",
       "      <td>AOS</td>\n",
       "      <td>1990-01-02</td>\n",
       "      <td>2021-03-19</td>\n",
       "      <td>C:\\Users\\Philipp\\Google Drive\\Code_for_bothCom...</td>\n",
       "      <td>Industrials</td>\n",
       "    </tr>\n",
       "    <tr>\n",
       "      <th>2</th>\n",
       "      <td>ABT</td>\n",
       "      <td>1990-01-02</td>\n",
       "      <td>2021-03-19</td>\n",
       "      <td>C:\\Users\\Philipp\\Google Drive\\Code_for_bothCom...</td>\n",
       "      <td>Health Care</td>\n",
       "    </tr>\n",
       "    <tr>\n",
       "      <th>3</th>\n",
       "      <td>ABBV</td>\n",
       "      <td>2013-01-02</td>\n",
       "      <td>2021-03-19</td>\n",
       "      <td>C:\\Users\\Philipp\\Google Drive\\Code_for_bothCom...</td>\n",
       "      <td>Health Care</td>\n",
       "    </tr>\n",
       "    <tr>\n",
       "      <th>4</th>\n",
       "      <td>ABMD</td>\n",
       "      <td>1990-01-02</td>\n",
       "      <td>2021-03-19</td>\n",
       "      <td>C:\\Users\\Philipp\\Google Drive\\Code_for_bothCom...</td>\n",
       "      <td>Health Care</td>\n",
       "    </tr>\n",
       "    <tr>\n",
       "      <th>5</th>\n",
       "      <td>ACN</td>\n",
       "      <td>2001-07-19</td>\n",
       "      <td>2021-03-19</td>\n",
       "      <td>C:\\Users\\Philipp\\Google Drive\\Code_for_bothCom...</td>\n",
       "      <td>Information Technology</td>\n",
       "    </tr>\n",
       "    <tr>\n",
       "      <th>6</th>\n",
       "      <td>ATVI</td>\n",
       "      <td>1993-10-25</td>\n",
       "      <td>2021-03-19</td>\n",
       "      <td>C:\\Users\\Philipp\\Google Drive\\Code_for_bothCom...</td>\n",
       "      <td>Communication Services</td>\n",
       "    </tr>\n",
       "    <tr>\n",
       "      <th>7</th>\n",
       "      <td>ADBE</td>\n",
       "      <td>1990-01-02</td>\n",
       "      <td>2021-03-19</td>\n",
       "      <td>C:\\Users\\Philipp\\Google Drive\\Code_for_bothCom...</td>\n",
       "      <td>Information Technology</td>\n",
       "    </tr>\n",
       "    <tr>\n",
       "      <th>8</th>\n",
       "      <td>AAP</td>\n",
       "      <td>2001-11-29</td>\n",
       "      <td>2021-03-19</td>\n",
       "      <td>C:\\Users\\Philipp\\Google Drive\\Code_for_bothCom...</td>\n",
       "      <td>Consumer Discretionary</td>\n",
       "    </tr>\n",
       "    <tr>\n",
       "      <th>9</th>\n",
       "      <td>AMD</td>\n",
       "      <td>1990-01-02</td>\n",
       "      <td>2021-03-19</td>\n",
       "      <td>C:\\Users\\Philipp\\Google Drive\\Code_for_bothCom...</td>\n",
       "      <td>Information Technology</td>\n",
       "    </tr>\n",
       "  </tbody>\n",
       "</table>\n",
       "</div>"
      ],
      "text/plain": [
       "  TICKER FIRST_DATE_OHLC LAST_DATE_OHLC  \\\n",
       "0    MMM      1990-01-02     2021-03-19   \n",
       "1    AOS      1990-01-02     2021-03-19   \n",
       "2    ABT      1990-01-02     2021-03-19   \n",
       "3   ABBV      2013-01-02     2021-03-19   \n",
       "4   ABMD      1990-01-02     2021-03-19   \n",
       "5    ACN      2001-07-19     2021-03-19   \n",
       "6   ATVI      1993-10-25     2021-03-19   \n",
       "7   ADBE      1990-01-02     2021-03-19   \n",
       "8    AAP      2001-11-29     2021-03-19   \n",
       "9    AMD      1990-01-02     2021-03-19   \n",
       "\n",
       "                                            FILEPATH                  SECTOR  \n",
       "0  C:\\Users\\Philipp\\Google Drive\\Code_for_bothCom...             Industrials  \n",
       "1  C:\\Users\\Philipp\\Google Drive\\Code_for_bothCom...             Industrials  \n",
       "2  C:\\Users\\Philipp\\Google Drive\\Code_for_bothCom...             Health Care  \n",
       "3  C:\\Users\\Philipp\\Google Drive\\Code_for_bothCom...             Health Care  \n",
       "4  C:\\Users\\Philipp\\Google Drive\\Code_for_bothCom...             Health Care  \n",
       "5  C:\\Users\\Philipp\\Google Drive\\Code_for_bothCom...  Information Technology  \n",
       "6  C:\\Users\\Philipp\\Google Drive\\Code_for_bothCom...  Communication Services  \n",
       "7  C:\\Users\\Philipp\\Google Drive\\Code_for_bothCom...  Information Technology  \n",
       "8  C:\\Users\\Philipp\\Google Drive\\Code_for_bothCom...  Consumer Discretionary  \n",
       "9  C:\\Users\\Philipp\\Google Drive\\Code_for_bothCom...  Information Technology  "
      ]
     },
     "execution_count": 43,
     "metadata": {},
     "output_type": "execute_result"
    }
   ],
   "source": []
  },
  {
   "cell_type": "code",
   "execution_count": null,
   "metadata": {},
   "outputs": [],
   "source": []
  },
  {
   "cell_type": "code",
   "execution_count": null,
   "metadata": {},
   "outputs": [],
   "source": []
  },
  {
   "cell_type": "code",
   "execution_count": null,
   "metadata": {},
   "outputs": [],
   "source": []
  },
  {
   "cell_type": "code",
   "execution_count": null,
   "metadata": {},
   "outputs": [],
   "source": []
  },
  {
   "cell_type": "code",
   "execution_count": null,
   "metadata": {},
   "outputs": [],
   "source": []
  },
  {
   "cell_type": "code",
   "execution_count": 43,
   "metadata": {},
   "outputs": [],
   "source": [
    "dftest.ta.strategy('Volume')"
   ]
  },
  {
   "cell_type": "code",
   "execution_count": 44,
   "metadata": {},
   "outputs": [
    {
     "data": {
      "text/html": [
       "<div>\n",
       "<style scoped>\n",
       "    .dataframe tbody tr th:only-of-type {\n",
       "        vertical-align: middle;\n",
       "    }\n",
       "\n",
       "    .dataframe tbody tr th {\n",
       "        vertical-align: top;\n",
       "    }\n",
       "\n",
       "    .dataframe thead th {\n",
       "        text-align: right;\n",
       "    }\n",
       "</style>\n",
       "<table border=\"1\" class=\"dataframe\">\n",
       "  <thead>\n",
       "    <tr style=\"text-align: right;\">\n",
       "      <th></th>\n",
       "      <th>open</th>\n",
       "      <th>high</th>\n",
       "      <th>low</th>\n",
       "      <th>close</th>\n",
       "      <th>volume</th>\n",
       "      <th>EFI_13</th>\n",
       "      <th>EOM_14_100000000</th>\n",
       "      <th>MFI_14</th>\n",
       "      <th>NVI_1</th>\n",
       "      <th>OBV</th>\n",
       "      <th>PVI_1</th>\n",
       "      <th>PVOL</th>\n",
       "      <th>PVR</th>\n",
       "      <th>AD</th>\n",
       "      <th>ADOSC_3_10</th>\n",
       "      <th>OBV_min_2</th>\n",
       "      <th>OBV_max_2</th>\n",
       "      <th>OBVe_4</th>\n",
       "      <th>OBVe_12</th>\n",
       "      <th>AOBV_LR_2</th>\n",
       "      <th>AOBV_SR_2</th>\n",
       "      <th>CMF_20</th>\n",
       "      <th>PVT</th>\n",
       "    </tr>\n",
       "    <tr>\n",
       "      <th>date</th>\n",
       "      <th></th>\n",
       "      <th></th>\n",
       "      <th></th>\n",
       "      <th></th>\n",
       "      <th></th>\n",
       "      <th></th>\n",
       "      <th></th>\n",
       "      <th></th>\n",
       "      <th></th>\n",
       "      <th></th>\n",
       "      <th></th>\n",
       "      <th></th>\n",
       "      <th></th>\n",
       "      <th></th>\n",
       "      <th></th>\n",
       "      <th></th>\n",
       "      <th></th>\n",
       "      <th></th>\n",
       "      <th></th>\n",
       "      <th></th>\n",
       "      <th></th>\n",
       "      <th></th>\n",
       "      <th></th>\n",
       "    </tr>\n",
       "  </thead>\n",
       "  <tbody>\n",
       "    <tr>\n",
       "      <th>2021-03-08</th>\n",
       "      <td>120.9375</td>\n",
       "      <td>121.0000</td>\n",
       "      <td>116.1875</td>\n",
       "      <td>116.3750</td>\n",
       "      <td>153918592.0</td>\n",
       "      <td>-1.799754e+08</td>\n",
       "      <td>-4.050747</td>\n",
       "      <td>23.851101</td>\n",
       "      <td>1371.392822</td>\n",
       "      <td>8.715573e+10</td>\n",
       "      <td>1310.421265</td>\n",
       "      <td>1.791228e+10</td>\n",
       "      <td>3.0</td>\n",
       "      <td>7.870897e+10</td>\n",
       "      <td>-9.719947e+07</td>\n",
       "      <td>8.715573e+10</td>\n",
       "      <td>8.730965e+10</td>\n",
       "      <td>8.724857e+10</td>\n",
       "      <td>8.742175e+10</td>\n",
       "      <td>0</td>\n",
       "      <td>1</td>\n",
       "      <td>-0.116858</td>\n",
       "      <td>2.983229e+10</td>\n",
       "    </tr>\n",
       "    <tr>\n",
       "      <th>2021-03-09</th>\n",
       "      <td>119.0000</td>\n",
       "      <td>122.0625</td>\n",
       "      <td>118.8125</td>\n",
       "      <td>121.0625</td>\n",
       "      <td>129159600.0</td>\n",
       "      <td>-6.777385e+07</td>\n",
       "      <td>-3.022866</td>\n",
       "      <td>30.521265</td>\n",
       "      <td>1375.420166</td>\n",
       "      <td>8.728489e+10</td>\n",
       "      <td>1310.421265</td>\n",
       "      <td>1.563638e+10</td>\n",
       "      <td>2.0</td>\n",
       "      <td>7.875864e+10</td>\n",
       "      <td>-8.281099e+07</td>\n",
       "      <td>8.715573e+10</td>\n",
       "      <td>8.728489e+10</td>\n",
       "      <td>8.726310e+10</td>\n",
       "      <td>8.740070e+10</td>\n",
       "      <td>0</td>\n",
       "      <td>1</td>\n",
       "      <td>-0.117862</td>\n",
       "      <td>3.035246e+10</td>\n",
       "    </tr>\n",
       "    <tr>\n",
       "      <th>2021-03-10</th>\n",
       "      <td>121.6875</td>\n",
       "      <td>122.1875</td>\n",
       "      <td>119.4375</td>\n",
       "      <td>120.0000</td>\n",
       "      <td>111760400.0</td>\n",
       "      <td>-7.505551e+07</td>\n",
       "      <td>-2.555383</td>\n",
       "      <td>30.390823</td>\n",
       "      <td>1374.542725</td>\n",
       "      <td>8.717313e+10</td>\n",
       "      <td>1310.421265</td>\n",
       "      <td>1.341125e+10</td>\n",
       "      <td>4.0</td>\n",
       "      <td>7.869260e+10</td>\n",
       "      <td>-9.041049e+07</td>\n",
       "      <td>8.717313e+10</td>\n",
       "      <td>8.728489e+10</td>\n",
       "      <td>8.722711e+10</td>\n",
       "      <td>8.736569e+10</td>\n",
       "      <td>0</td>\n",
       "      <td>1</td>\n",
       "      <td>-0.115577</td>\n",
       "      <td>3.025440e+10</td>\n",
       "    </tr>\n",
       "    <tr>\n",
       "      <th>2021-03-11</th>\n",
       "      <td>122.5625</td>\n",
       "      <td>123.1875</td>\n",
       "      <td>121.2500</td>\n",
       "      <td>121.9375</td>\n",
       "      <td>102753600.0</td>\n",
       "      <td>-3.589256e+07</td>\n",
       "      <td>-2.524725</td>\n",
       "      <td>30.751091</td>\n",
       "      <td>1376.156982</td>\n",
       "      <td>8.727588e+10</td>\n",
       "      <td>1310.421265</td>\n",
       "      <td>1.252952e+10</td>\n",
       "      <td>2.0</td>\n",
       "      <td>7.865945e+10</td>\n",
       "      <td>-9.584633e+07</td>\n",
       "      <td>8.717313e+10</td>\n",
       "      <td>8.727588e+10</td>\n",
       "      <td>8.724662e+10</td>\n",
       "      <td>8.735187e+10</td>\n",
       "      <td>0</td>\n",
       "      <td>1</td>\n",
       "      <td>-0.119369</td>\n",
       "      <td>3.042027e+10</td>\n",
       "    </tr>\n",
       "    <tr>\n",
       "      <th>2021-03-12</th>\n",
       "      <td>120.3750</td>\n",
       "      <td>121.1875</td>\n",
       "      <td>119.1875</td>\n",
       "      <td>121.0000</td>\n",
       "      <td>87963400.0</td>\n",
       "      <td>-4.254587e+07</td>\n",
       "      <td>-2.274888</td>\n",
       "      <td>31.111531</td>\n",
       "      <td>1375.387939</td>\n",
       "      <td>8.718791e+10</td>\n",
       "      <td>1310.421265</td>\n",
       "      <td>1.064357e+10</td>\n",
       "      <td>4.0</td>\n",
       "      <td>7.873092e+10</td>\n",
       "      <td>-6.661727e+07</td>\n",
       "      <td>8.718791e+10</td>\n",
       "      <td>8.727588e+10</td>\n",
       "      <td>8.722314e+10</td>\n",
       "      <td>8.732665e+10</td>\n",
       "      <td>0</td>\n",
       "      <td>1</td>\n",
       "      <td>-0.090416</td>\n",
       "      <td>3.035262e+10</td>\n",
       "    </tr>\n",
       "  </tbody>\n",
       "</table>\n",
       "</div>"
      ],
      "text/plain": [
       "                open      high       low     close       volume        EFI_13  \\\n",
       "date                                                                            \n",
       "2021-03-08  120.9375  121.0000  116.1875  116.3750  153918592.0 -1.799754e+08   \n",
       "2021-03-09  119.0000  122.0625  118.8125  121.0625  129159600.0 -6.777385e+07   \n",
       "2021-03-10  121.6875  122.1875  119.4375  120.0000  111760400.0 -7.505551e+07   \n",
       "2021-03-11  122.5625  123.1875  121.2500  121.9375  102753600.0 -3.589256e+07   \n",
       "2021-03-12  120.3750  121.1875  119.1875  121.0000   87963400.0 -4.254587e+07   \n",
       "\n",
       "            EOM_14_100000000     MFI_14        NVI_1           OBV  \\\n",
       "date                                                                 \n",
       "2021-03-08         -4.050747  23.851101  1371.392822  8.715573e+10   \n",
       "2021-03-09         -3.022866  30.521265  1375.420166  8.728489e+10   \n",
       "2021-03-10         -2.555383  30.390823  1374.542725  8.717313e+10   \n",
       "2021-03-11         -2.524725  30.751091  1376.156982  8.727588e+10   \n",
       "2021-03-12         -2.274888  31.111531  1375.387939  8.718791e+10   \n",
       "\n",
       "                  PVI_1          PVOL  PVR            AD    ADOSC_3_10  \\\n",
       "date                                                                     \n",
       "2021-03-08  1310.421265  1.791228e+10  3.0  7.870897e+10 -9.719947e+07   \n",
       "2021-03-09  1310.421265  1.563638e+10  2.0  7.875864e+10 -8.281099e+07   \n",
       "2021-03-10  1310.421265  1.341125e+10  4.0  7.869260e+10 -9.041049e+07   \n",
       "2021-03-11  1310.421265  1.252952e+10  2.0  7.865945e+10 -9.584633e+07   \n",
       "2021-03-12  1310.421265  1.064357e+10  4.0  7.873092e+10 -6.661727e+07   \n",
       "\n",
       "               OBV_min_2     OBV_max_2        OBVe_4       OBVe_12  AOBV_LR_2  \\\n",
       "date                                                                            \n",
       "2021-03-08  8.715573e+10  8.730965e+10  8.724857e+10  8.742175e+10          0   \n",
       "2021-03-09  8.715573e+10  8.728489e+10  8.726310e+10  8.740070e+10          0   \n",
       "2021-03-10  8.717313e+10  8.728489e+10  8.722711e+10  8.736569e+10          0   \n",
       "2021-03-11  8.717313e+10  8.727588e+10  8.724662e+10  8.735187e+10          0   \n",
       "2021-03-12  8.718791e+10  8.727588e+10  8.722314e+10  8.732665e+10          0   \n",
       "\n",
       "            AOBV_SR_2    CMF_20           PVT  \n",
       "date                                           \n",
       "2021-03-08          1 -0.116858  2.983229e+10  \n",
       "2021-03-09          1 -0.117862  3.035246e+10  \n",
       "2021-03-10          1 -0.115577  3.025440e+10  \n",
       "2021-03-11          1 -0.119369  3.042027e+10  \n",
       "2021-03-12          1 -0.090416  3.035262e+10  "
      ]
     },
     "execution_count": 44,
     "metadata": {},
     "output_type": "execute_result"
    }
   ],
   "source": [
    "dftest.tail()"
   ]
  },
  {
   "cell_type": "code",
   "execution_count": 45,
   "metadata": {},
   "outputs": [
    {
     "data": {
      "text/plain": [
       "(5333, 23)"
      ]
     },
     "execution_count": 45,
     "metadata": {},
     "output_type": "execute_result"
    }
   ],
   "source": [
    "dftest.shape"
   ]
  },
  {
   "cell_type": "code",
   "execution_count": 2,
   "metadata": {},
   "outputs": [],
   "source": [
    "tickerDF = pd.read_csv('../01_data/SnP500_constituents.csv')#Google Drive/Code_for_bothComputers/PythonStockMarketEvalTool/PythonStockScreener/01_data/SnP500_constituents.csv"
   ]
  },
  {
   "cell_type": "code",
   "execution_count": 5,
   "metadata": {},
   "outputs": [
    {
     "data": {
      "text/html": [
       "<div>\n",
       "<style scoped>\n",
       "    .dataframe tbody tr th:only-of-type {\n",
       "        vertical-align: middle;\n",
       "    }\n",
       "\n",
       "    .dataframe tbody tr th {\n",
       "        vertical-align: top;\n",
       "    }\n",
       "\n",
       "    .dataframe thead th {\n",
       "        text-align: right;\n",
       "    }\n",
       "</style>\n",
       "<table border=\"1\" class=\"dataframe\">\n",
       "  <thead>\n",
       "    <tr style=\"text-align: right;\">\n",
       "      <th></th>\n",
       "      <th>Symbol</th>\n",
       "      <th>Name</th>\n",
       "      <th>Sector</th>\n",
       "    </tr>\n",
       "  </thead>\n",
       "  <tbody>\n",
       "    <tr>\n",
       "      <th>0</th>\n",
       "      <td>MMM</td>\n",
       "      <td>3M Company</td>\n",
       "      <td>Industrials</td>\n",
       "    </tr>\n",
       "    <tr>\n",
       "      <th>1</th>\n",
       "      <td>AOS</td>\n",
       "      <td>A.O. Smith Corp</td>\n",
       "      <td>Industrials</td>\n",
       "    </tr>\n",
       "    <tr>\n",
       "      <th>2</th>\n",
       "      <td>ABT</td>\n",
       "      <td>Abbott Laboratories</td>\n",
       "      <td>Health Care</td>\n",
       "    </tr>\n",
       "    <tr>\n",
       "      <th>3</th>\n",
       "      <td>ABBV</td>\n",
       "      <td>AbbVie Inc.</td>\n",
       "      <td>Health Care</td>\n",
       "    </tr>\n",
       "    <tr>\n",
       "      <th>4</th>\n",
       "      <td>ABMD</td>\n",
       "      <td>Abiomed</td>\n",
       "      <td>Health Care</td>\n",
       "    </tr>\n",
       "  </tbody>\n",
       "</table>\n",
       "</div>"
      ],
      "text/plain": [
       "  Symbol                 Name       Sector\n",
       "0    MMM           3M Company  Industrials\n",
       "1    AOS      A.O. Smith Corp  Industrials\n",
       "2    ABT  Abbott Laboratories  Health Care\n",
       "3   ABBV          AbbVie Inc.  Health Care\n",
       "4   ABMD              Abiomed  Health Care"
      ]
     },
     "execution_count": 5,
     "metadata": {},
     "output_type": "execute_result"
    }
   ],
   "source": [
    "tickerDF.head()"
   ]
  },
  {
   "cell_type": "code",
   "execution_count": 9,
   "metadata": {
    "scrolled": true
   },
   "outputs": [
    {
     "data": {
      "text/plain": [
       "(11,)"
      ]
     },
     "execution_count": 9,
     "metadata": {},
     "output_type": "execute_result"
    }
   ],
   "source": [
    "tickerDF.Sector.unique().shape"
   ]
  },
  {
   "cell_type": "code",
   "execution_count": 25,
   "metadata": {
    "ExecuteTime": {
     "end_time": "2021-03-19T15:52:29.737802Z",
     "start_time": "2021-03-19T15:52:29.706386Z"
    }
   },
   "outputs": [
    {
     "data": {
      "text/plain": [
       "'C:\\\\Users\\\\phili\\\\Google Drive\\\\Code_for_bothComputers\\\\PythonStockMarketEvalTool\\\\PythonStockScreener\\\\01_data\\\\01_price_data\\\\AAPL1'"
      ]
     },
     "execution_count": 25,
     "metadata": {},
     "output_type": "execute_result"
    }
   ],
   "source": [
    "masterDf.FILEPATH.iloc[2]"
   ]
  },
  {
   "cell_type": "code",
   "execution_count": 31,
   "metadata": {
    "ExecuteTime": {
     "end_time": "2021-03-19T15:55:19.911545Z",
     "start_time": "2021-03-19T15:55:19.864399Z"
    }
   },
   "outputs": [
    {
     "data": {
      "text/html": [
       "<div>\n",
       "<style scoped>\n",
       "    .dataframe tbody tr th:only-of-type {\n",
       "        vertical-align: middle;\n",
       "    }\n",
       "\n",
       "    .dataframe tbody tr th {\n",
       "        vertical-align: top;\n",
       "    }\n",
       "\n",
       "    .dataframe thead th {\n",
       "        text-align: right;\n",
       "    }\n",
       "</style>\n",
       "<table border=\"1\" class=\"dataframe\">\n",
       "  <thead>\n",
       "    <tr style=\"text-align: right;\">\n",
       "      <th></th>\n",
       "      <th>Date</th>\n",
       "      <th>Open</th>\n",
       "      <th>High</th>\n",
       "      <th>Low</th>\n",
       "      <th>Close</th>\n",
       "      <th>Volume</th>\n",
       "      <th>Dividends</th>\n",
       "      <th>Stock Splits</th>\n",
       "    </tr>\n",
       "  </thead>\n",
       "  <tbody>\n",
       "    <tr>\n",
       "      <th>0</th>\n",
       "      <td>1999-12-31</td>\n",
       "      <td>0.776367</td>\n",
       "      <td>0.791016</td>\n",
       "      <td>0.765137</td>\n",
       "      <td>0.790527</td>\n",
       "      <td>163811200.0</td>\n",
       "      <td>0.0</td>\n",
       "      <td>0.0</td>\n",
       "    </tr>\n",
       "    <tr>\n",
       "      <th>1</th>\n",
       "      <td>2000-01-03</td>\n",
       "      <td>0.806641</td>\n",
       "      <td>0.865234</td>\n",
       "      <td>0.782227</td>\n",
       "      <td>0.860840</td>\n",
       "      <td>535796800.0</td>\n",
       "      <td>0.0</td>\n",
       "      <td>0.0</td>\n",
       "    </tr>\n",
       "    <tr>\n",
       "      <th>2</th>\n",
       "      <td>2000-01-04</td>\n",
       "      <td>0.832520</td>\n",
       "      <td>0.850586</td>\n",
       "      <td>0.778320</td>\n",
       "      <td>0.788086</td>\n",
       "      <td>512377600.0</td>\n",
       "      <td>0.0</td>\n",
       "      <td>0.0</td>\n",
       "    </tr>\n",
       "    <tr>\n",
       "      <th>3</th>\n",
       "      <td>2000-01-05</td>\n",
       "      <td>0.797852</td>\n",
       "      <td>0.850098</td>\n",
       "      <td>0.791992</td>\n",
       "      <td>0.799805</td>\n",
       "      <td>778321600.0</td>\n",
       "      <td>0.0</td>\n",
       "      <td>0.0</td>\n",
       "    </tr>\n",
       "    <tr>\n",
       "      <th>4</th>\n",
       "      <td>2000-01-06</td>\n",
       "      <td>0.816406</td>\n",
       "      <td>0.822754</td>\n",
       "      <td>0.730469</td>\n",
       "      <td>0.730469</td>\n",
       "      <td>767972800.0</td>\n",
       "      <td>0.0</td>\n",
       "      <td>0.0</td>\n",
       "    </tr>\n",
       "    <tr>\n",
       "      <th>...</th>\n",
       "      <td>...</td>\n",
       "      <td>...</td>\n",
       "      <td>...</td>\n",
       "      <td>...</td>\n",
       "      <td>...</td>\n",
       "      <td>...</td>\n",
       "      <td>...</td>\n",
       "      <td>...</td>\n",
       "    </tr>\n",
       "    <tr>\n",
       "      <th>5332</th>\n",
       "      <td>2021-03-12</td>\n",
       "      <td>120.375000</td>\n",
       "      <td>121.187500</td>\n",
       "      <td>119.187500</td>\n",
       "      <td>121.000000</td>\n",
       "      <td>87963400.0</td>\n",
       "      <td>0.0</td>\n",
       "      <td>0.0</td>\n",
       "    </tr>\n",
       "    <tr>\n",
       "      <th>5333</th>\n",
       "      <td>2021-03-15</td>\n",
       "      <td>121.437500</td>\n",
       "      <td>124.000000</td>\n",
       "      <td>120.437500</td>\n",
       "      <td>124.000000</td>\n",
       "      <td>92403800.0</td>\n",
       "      <td>0.0</td>\n",
       "      <td>0.0</td>\n",
       "    </tr>\n",
       "    <tr>\n",
       "      <th>5334</th>\n",
       "      <td>2021-03-16</td>\n",
       "      <td>125.687500</td>\n",
       "      <td>127.250000</td>\n",
       "      <td>124.750000</td>\n",
       "      <td>125.562500</td>\n",
       "      <td>114740000.0</td>\n",
       "      <td>0.0</td>\n",
       "      <td>0.0</td>\n",
       "    </tr>\n",
       "    <tr>\n",
       "      <th>5335</th>\n",
       "      <td>2021-03-17</td>\n",
       "      <td>124.062500</td>\n",
       "      <td>125.875000</td>\n",
       "      <td>122.312500</td>\n",
       "      <td>124.750000</td>\n",
       "      <td>111437504.0</td>\n",
       "      <td>0.0</td>\n",
       "      <td>0.0</td>\n",
       "    </tr>\n",
       "    <tr>\n",
       "      <th>5336</th>\n",
       "      <td>2021-03-18</td>\n",
       "      <td>122.875000</td>\n",
       "      <td>123.187500</td>\n",
       "      <td>120.312500</td>\n",
       "      <td>120.500000</td>\n",
       "      <td>121229696.0</td>\n",
       "      <td>0.0</td>\n",
       "      <td>0.0</td>\n",
       "    </tr>\n",
       "  </tbody>\n",
       "</table>\n",
       "<p>5337 rows × 8 columns</p>\n",
       "</div>"
      ],
      "text/plain": [
       "            Date        Open        High         Low       Close       Volume  \\\n",
       "0     1999-12-31    0.776367    0.791016    0.765137    0.790527  163811200.0   \n",
       "1     2000-01-03    0.806641    0.865234    0.782227    0.860840  535796800.0   \n",
       "2     2000-01-04    0.832520    0.850586    0.778320    0.788086  512377600.0   \n",
       "3     2000-01-05    0.797852    0.850098    0.791992    0.799805  778321600.0   \n",
       "4     2000-01-06    0.816406    0.822754    0.730469    0.730469  767972800.0   \n",
       "...          ...         ...         ...         ...         ...          ...   \n",
       "5332  2021-03-12  120.375000  121.187500  119.187500  121.000000   87963400.0   \n",
       "5333  2021-03-15  121.437500  124.000000  120.437500  124.000000   92403800.0   \n",
       "5334  2021-03-16  125.687500  127.250000  124.750000  125.562500  114740000.0   \n",
       "5335  2021-03-17  124.062500  125.875000  122.312500  124.750000  111437504.0   \n",
       "5336  2021-03-18  122.875000  123.187500  120.312500  120.500000  121229696.0   \n",
       "\n",
       "      Dividends  Stock Splits  \n",
       "0           0.0           0.0  \n",
       "1           0.0           0.0  \n",
       "2           0.0           0.0  \n",
       "3           0.0           0.0  \n",
       "4           0.0           0.0  \n",
       "...         ...           ...  \n",
       "5332        0.0           0.0  \n",
       "5333        0.0           0.0  \n",
       "5334        0.0           0.0  \n",
       "5335        0.0           0.0  \n",
       "5336        0.0           0.0  \n",
       "\n",
       "[5337 rows x 8 columns]"
      ]
     },
     "execution_count": 31,
     "metadata": {},
     "output_type": "execute_result"
    }
   ],
   "source": [
    "pd.read_feather('C:\\\\Users\\\\phili\\\\Google Drive\\\\Code_for_bothComputers\\\\PythonStockMarketEvalTool\\\\PythonStockScreener\\\\01_data\\\\01_price_data\\\\AAPL1')"
   ]
  },
  {
   "cell_type": "code",
   "execution_count": null,
   "metadata": {},
   "outputs": [],
   "source": []
  }
 ],
 "metadata": {
  "kernelspec": {
   "display_name": "Python 3",
   "language": "python",
   "name": "python3"
  },
  "language_info": {
   "codemirror_mode": {
    "name": "ipython",
    "version": 3
   },
   "file_extension": ".py",
   "mimetype": "text/x-python",
   "name": "python",
   "nbconvert_exporter": "python",
   "pygments_lexer": "ipython3",
   "version": "3.8.5"
  },
  "varInspector": {
   "cols": {
    "lenName": 16,
    "lenType": 16,
    "lenVar": 40
   },
   "kernels_config": {
    "python": {
     "delete_cmd_postfix": "",
     "delete_cmd_prefix": "del ",
     "library": "var_list.py",
     "varRefreshCmd": "print(var_dic_list())"
    },
    "r": {
     "delete_cmd_postfix": ") ",
     "delete_cmd_prefix": "rm(",
     "library": "var_list.r",
     "varRefreshCmd": "cat(var_dic_list()) "
    }
   },
   "types_to_exclude": [
    "module",
    "function",
    "builtin_function_or_method",
    "instance",
    "_Feature"
   ],
   "window_display": false
  }
 },
 "nbformat": 4,
 "nbformat_minor": 4
}
