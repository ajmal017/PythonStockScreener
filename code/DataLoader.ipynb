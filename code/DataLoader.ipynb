{
 "cells": [
  {
   "cell_type": "markdown",
   "metadata": {},
   "source": [
    "# dataloader notebook \n",
    "loading data from disk to actually get a dataframe ready for training"
   ]
  },
  {
   "cell_type": "code",
   "execution_count": 1,
   "metadata": {
    "ExecuteTime": {
     "end_time": "2021-03-19T15:43:51.332302Z",
     "start_time": "2021-03-19T15:43:44.476244Z"
    }
   },
   "outputs": [],
   "source": [
    "# Import statements\n",
    "import yfinance as yf\n",
    "import pandas as pd\n",
    "import os\n",
    "import numpy as np\n",
    "from datetime import date\n",
    "from pathlib import Path\n",
    "import pandas_ta as ta\n",
    "from tqdm import tqdm\n",
    "from price_data_pull_yfinance import gethistoricalOHLC, saveHistStockData, loadHistDataFromDisk\n",
    "\n",
    "from global_vars import dataPathToOHLC, pathToMasterDF, float16Cols, float32Cols, dataPathToTechIndicators"
   ]
  },
  {
   "cell_type": "code",
   "execution_count": 2,
   "metadata": {
    "ExecuteTime": {
     "end_time": "2021-03-19T15:43:58.473129Z",
     "start_time": "2021-03-19T15:43:58.442008Z"
    }
   },
   "outputs": [],
   "source": [
    "pd.set_option('display.max_columns', 500)"
   ]
  },
  {
   "cell_type": "markdown",
   "metadata": {},
   "source": [
    "## Import all important stuff"
   ]
  },
  {
   "cell_type": "code",
   "execution_count": 5,
   "metadata": {
    "ExecuteTime": {
     "end_time": "2021-03-19T15:52:11.755041Z",
     "start_time": "2021-03-19T15:52:11.724177Z"
    }
   },
   "outputs": [],
   "source": [
    "masterDf = pd.read_csv(pathToMasterDF);\n",
    "tickerDF = pd.read_csv('../01_data/SnP500_constituents.csv')\n",
    "mdf = masterDf"
   ]
  },
  {
   "cell_type": "markdown",
   "metadata": {},
   "source": [
    "## data sanity checks\n",
    "Lets check all the data that we have on disk and compare it with the data that should be the tickers."
   ]
  },
  {
   "cell_type": "code",
   "execution_count": 28,
   "metadata": {},
   "outputs": [],
   "source": [
    "symbol_list = tickerDF.Symbol.to_list();\n",
    "ticker_list = mdf[mdf.FILEPATH_TECH_IND_CALC != ''].TICKER.to_list()"
   ]
  },
  {
   "cell_type": "code",
   "execution_count": 41,
   "metadata": {},
   "outputs": [],
   "source": [
    "def getTickersOnDisk(path):\n",
    "    arr = os.listdir(path)\n",
    "    tickers_on_disk = [ticker.split('_')[0] for ticker in arr]\n",
    "    return tickers_on_disk"
   ]
  },
  {
   "cell_type": "code",
   "execution_count": 43,
   "metadata": {},
   "outputs": [
    {
     "data": {
      "text/plain": [
       "['AAL', 'AAPL', 'AAP', 'ABBV', 'ABC']"
      ]
     },
     "execution_count": 43,
     "metadata": {},
     "output_type": "execute_result"
    }
   ],
   "source": [
    "tickers_on_disk = getTickersOnDisk('../01_data/01_price_data/01_price_data_w_tech_indicators/');\n",
    "tickers_on_disk[:5]"
   ]
  },
  {
   "cell_type": "code",
   "execution_count": 46,
   "metadata": {},
   "outputs": [],
   "source": [
    "problematic_tickers = [ticker for ticker in ticker_list if ticker not in tickers_on_disk]"
   ]
  },
  {
   "cell_type": "code",
   "execution_count": 78,
   "metadata": {},
   "outputs": [],
   "source": [
    "APPL_df = pd.read_feather('../01_data/01_price_data/01_price_data_w_tech_indicators/AAPL_tech_ind_calculated')\n",
    "KO_df = pd.read_feather('../01_data/01_price_data/01_price_data_w_tech_indicators/KO_tech_ind_calculated')\n",
    "DVN_df = pd.read_feather('../01_data/01_price_data/01_price_data_w_tech_indicators/DVN_tech_ind_calculated')"
   ]
  },
  {
   "cell_type": "markdown",
   "metadata": {},
   "source": [
    "### Instable Candle TA - One time clean up\n",
    "Unfortunately we saw that the candle stick based indicators are somewhat instable so, we are going to remove them from our datasets.  \n",
    "As the calculation is rather memory intensive, we are going to just drop them from the other data\n"
   ]
  },
  {
   "cell_type": "code",
   "execution_count": 75,
   "metadata": {},
   "outputs": [
    {
     "data": {
      "text/plain": [
       "['index',\n",
       " 'CDL_DOJI_10_0.1',\n",
       " 'CDL_INSIDE',\n",
       " 'HA_open',\n",
       " 'HA_high',\n",
       " 'HA_low',\n",
       " 'HA_close']"
      ]
     },
     "execution_count": 75,
     "metadata": {},
     "output_type": "execute_result"
    }
   ],
   "source": [
    "missing_cols = [col for col in APPL_df.columns if col not in KO_df.columns]\n",
    "missing_cols"
   ]
  },
  {
   "cell_type": "markdown",
   "metadata": {},
   "source": [
    "#### clean up loop"
   ]
  },
  {
   "cell_type": "code",
   "execution_count": 77,
   "metadata": {},
   "outputs": [
    {
     "name": "stderr",
     "output_type": "stream",
     "text": [
      "100%|██████████| 503/503 [00:29<00:00, 16.85it/s]\n"
     ]
    }
   ],
   "source": [
    "for ticker in tqdm(tickers_on_disk):\n",
    "    ticker_full_name = ticker + '_tech_ind_calculated'\n",
    "    filepath = Path('../01_data/01_price_data/01_price_data_w_tech_indicators/').joinpath(ticker_full_name) \n",
    "    df = pd.read_feather(filepath)\n",
    "\n",
    "    bad_cols_to_drop = [col for col in df.columns if col in missing_cols]\n",
    "    if len(bad_cols_to_drop) > 0:\n",
    "        df = df.drop(bad_cols_to_drop, axis=1)\n",
    "        df.to_feather(filepath)"
   ]
  },
  {
   "cell_type": "markdown",
   "metadata": {},
   "source": [
    "### Lets look at the data in the S&P 500"
   ]
  },
  {
   "cell_type": "code",
   "execution_count": 80,
   "metadata": {},
   "outputs": [],
   "source": [
    "import seaborn as sns"
   ]
  },
  {
   "cell_type": "code",
   "execution_count": 82,
   "metadata": {},
   "outputs": [
    {
     "data": {
      "image/png": "[encoded data removed]",
      "text/plain": [
       "<Figure size 432x288 with 1 Axes>"
      ]
     },
     "metadata": {
      "needs_background": "light"
     },
     "output_type": "display_data"
    }
   ],
   "source": [
    "ax = sns.countplot(y=\"SECTOR\", data=mdf)"
   ]
  },
  {
   "cell_type": "code",
   "execution_count": 95,
   "metadata": {},
   "outputs": [
    {
     "data": {
      "text/plain": [
       "pandas._libs.tslibs.timestamps.Timestamp"
      ]
     },
     "execution_count": 95,
     "metadata": {},
     "output_type": "execute_result"
    }
   ],
   "source": [
    "mdf['FIRST_DATE_OHLC'] = pd.to_datetime(mdf['FIRST_DATE_OHLC']) \n",
    "type(mdf.FIRST_DATE_OHLC.iloc[0])"
   ]
  },
  {
   "cell_type": "code",
   "execution_count": 97,
   "metadata": {},
   "outputs": [
    {
     "data": {
      "text/plain": [
       "<AxesSubplot:xlabel='FIRST_DATE_OHLC'>"
      ]
     },
     "execution_count": 97,
     "metadata": {},
     "output_type": "execute_result"
    },
    {
     "data": {
      "image/png": "[encoded data removed]",
      "text/plain": [
       "<Figure size 432x288 with 1 Axes>"
      ]
     },
     "metadata": {
      "needs_background": "light"
     },
     "output_type": "display_data"
    }
   ],
   "source": [
    "mdf.groupby(mdf[\"FIRST_DATE_OHLC\"].dt.year).SECTOR.count().plot(kind=\"bar\")"
   ]
  },
  {
   "cell_type": "code",
   "execution_count": null,
   "metadata": {},
   "outputs": [],
   "source": []
  }
 ],
 "metadata": {
  "kernelspec": {
   "display_name": "Python 3",
   "language": "python",
   "name": "python3"
  },
  "language_info": {
   "codemirror_mode": {
    "name": "ipython",
    "version": 3
   },
   "file_extension": ".py",
   "mimetype": "text/x-python",
   "name": "python",
   "nbconvert_exporter": "python",
   "pygments_lexer": "ipython3",
   "version": "3.8.5"
  },
  "varInspector": {
   "cols": {
    "lenName": 16,
    "lenType": 16,
    "lenVar": 40
   },
   "kernels_config": {
    "python": {
     "delete_cmd_postfix": "",
     "delete_cmd_prefix": "del ",
     "library": "var_list.py",
     "varRefreshCmd": "print(var_dic_list())"
    },
    "r": {
     "delete_cmd_postfix": ") ",
     "delete_cmd_prefix": "rm(",
     "library": "var_list.r",
     "varRefreshCmd": "cat(var_dic_list()) "
    }
   },
   "types_to_exclude": [
    "module",
    "function",
    "builtin_function_or_method",
    "instance",
    "_Feature"
   ],
   "window_display": false
  }
 },
 "nbformat": 4,
 "nbformat_minor": 4
}
