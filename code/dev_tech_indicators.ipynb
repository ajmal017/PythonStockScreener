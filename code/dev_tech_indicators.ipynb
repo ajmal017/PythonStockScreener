{
 "cells": [
  {
   "cell_type": "code",
   "execution_count": 6,
   "metadata": {
    "ExecuteTime": {
     "end_time": "2021-03-19T15:43:51.332302Z",
     "start_time": "2021-03-19T15:43:44.476244Z"
    }
   },
   "outputs": [],
   "source": [
    "# Import statements\n",
    "import yfinance as yf\n",
    "import pandas as pd\n",
    "import os\n",
    "import numpy as np\n",
    "from datetime import date\n",
    "from pathlib import Path\n",
    "import pandas_ta as ta\n",
    "from tqdm import tqdm\n",
    "from price_data_pull_yfinance import gethistoricalOHLC, saveHistStockData, loadHistDataFromDisk\n",
    "\n",
    "from global_vars import dataPathToOHLC, pathToMasterDF, float16Cols, float32Cols, dataPathToTechIndicators"
   ]
  },
  {
   "cell_type": "code",
   "execution_count": 7,
   "metadata": {
    "ExecuteTime": {
     "end_time": "2021-03-19T15:43:58.473129Z",
     "start_time": "2021-03-19T15:43:58.442008Z"
    }
   },
   "outputs": [],
   "source": [
    "pd.set_option('display.max_columns', 500)"
   ]
  },
  {
   "cell_type": "code",
   "execution_count": 8,
   "metadata": {
    "ExecuteTime": {
     "end_time": "2021-03-19T15:52:11.755041Z",
     "start_time": "2021-03-19T15:52:11.724177Z"
    }
   },
   "outputs": [],
   "source": [
    "masterDf = pd.read_csv(pathToMasterDF);\n",
    "tickerDF = pd.read_csv('../01_data/SnP500_constituents.csv');\n",
    "masterDf = pd.merge(masterDf, tickerDF[['Symbol', 'Sector']], how='right', left_on=['TICKER'], right_on=['Symbol']).drop('Symbol', axis=1)"
   ]
  },
  {
   "cell_type": "code",
   "execution_count": 9,
   "metadata": {},
   "outputs": [],
   "source": [
    "masterDf.rename(columns = {'Sector': 'SECTOR'}, inplace = True)\n"
   ]
  },
  {
   "cell_type": "code",
   "execution_count": 10,
   "metadata": {},
   "outputs": [],
   "source": [
    "masterDf['FILEPATH_TECH_IND_CALC'] = ''"
   ]
  },
  {
   "cell_type": "code",
   "execution_count": 11,
   "metadata": {},
   "outputs": [
    {
     "data": {
      "text/html": [
       "<div>\n",
       "<style scoped>\n",
       "    .dataframe tbody tr th:only-of-type {\n",
       "        vertical-align: middle;\n",
       "    }\n",
       "\n",
       "    .dataframe tbody tr th {\n",
       "        vertical-align: top;\n",
       "    }\n",
       "\n",
       "    .dataframe thead th {\n",
       "        text-align: right;\n",
       "    }\n",
       "</style>\n",
       "<table border=\"1\" class=\"dataframe\">\n",
       "  <thead>\n",
       "    <tr style=\"text-align: right;\">\n",
       "      <th></th>\n",
       "      <th>TICKER</th>\n",
       "      <th>FIRST_DATE_OHLC</th>\n",
       "      <th>LAST_DATE_OHLC</th>\n",
       "      <th>FILEPATH</th>\n",
       "      <th>SECTOR</th>\n",
       "      <th>FILEPATH_TECH_IND_CALC</th>\n",
       "    </tr>\n",
       "  </thead>\n",
       "  <tbody>\n",
       "    <tr>\n",
       "      <th>0</th>\n",
       "      <td>MMM</td>\n",
       "      <td>1990-01-02</td>\n",
       "      <td>2021-03-19</td>\n",
       "      <td>C:\\Users\\Philipp\\Google Drive\\Code_for_bothCom...</td>\n",
       "      <td>Industrials</td>\n",
       "      <td></td>\n",
       "    </tr>\n",
       "    <tr>\n",
       "      <th>1</th>\n",
       "      <td>AOS</td>\n",
       "      <td>1990-01-02</td>\n",
       "      <td>2021-03-19</td>\n",
       "      <td>C:\\Users\\Philipp\\Google Drive\\Code_for_bothCom...</td>\n",
       "      <td>Industrials</td>\n",
       "      <td></td>\n",
       "    </tr>\n",
       "    <tr>\n",
       "      <th>2</th>\n",
       "      <td>ABT</td>\n",
       "      <td>1990-01-02</td>\n",
       "      <td>2021-03-19</td>\n",
       "      <td>C:\\Users\\Philipp\\Google Drive\\Code_for_bothCom...</td>\n",
       "      <td>Health Care</td>\n",
       "      <td></td>\n",
       "    </tr>\n",
       "    <tr>\n",
       "      <th>3</th>\n",
       "      <td>ABBV</td>\n",
       "      <td>2013-01-02</td>\n",
       "      <td>2021-03-19</td>\n",
       "      <td>C:\\Users\\Philipp\\Google Drive\\Code_for_bothCom...</td>\n",
       "      <td>Health Care</td>\n",
       "      <td></td>\n",
       "    </tr>\n",
       "    <tr>\n",
       "      <th>4</th>\n",
       "      <td>ABMD</td>\n",
       "      <td>1990-01-02</td>\n",
       "      <td>2021-03-19</td>\n",
       "      <td>C:\\Users\\Philipp\\Google Drive\\Code_for_bothCom...</td>\n",
       "      <td>Health Care</td>\n",
       "      <td></td>\n",
       "    </tr>\n",
       "    <tr>\n",
       "      <th>...</th>\n",
       "      <td>...</td>\n",
       "      <td>...</td>\n",
       "      <td>...</td>\n",
       "      <td>...</td>\n",
       "      <td>...</td>\n",
       "      <td>...</td>\n",
       "    </tr>\n",
       "    <tr>\n",
       "      <th>500</th>\n",
       "      <td>YUM</td>\n",
       "      <td>1997-09-17</td>\n",
       "      <td>2021-03-19</td>\n",
       "      <td>C:\\Users\\Philipp\\Google Drive\\Code_for_bothCom...</td>\n",
       "      <td>Consumer Discretionary</td>\n",
       "      <td></td>\n",
       "    </tr>\n",
       "    <tr>\n",
       "      <th>501</th>\n",
       "      <td>ZBRA</td>\n",
       "      <td>1991-08-15</td>\n",
       "      <td>2021-03-19</td>\n",
       "      <td>C:\\Users\\Philipp\\Google Drive\\Code_for_bothCom...</td>\n",
       "      <td>Information Technology</td>\n",
       "      <td></td>\n",
       "    </tr>\n",
       "    <tr>\n",
       "      <th>502</th>\n",
       "      <td>ZBH</td>\n",
       "      <td>2001-07-25</td>\n",
       "      <td>2021-03-19</td>\n",
       "      <td>C:\\Users\\Philipp\\Google Drive\\Code_for_bothCom...</td>\n",
       "      <td>Health Care</td>\n",
       "      <td></td>\n",
       "    </tr>\n",
       "    <tr>\n",
       "      <th>503</th>\n",
       "      <td>ZION</td>\n",
       "      <td>1990-01-02</td>\n",
       "      <td>2021-03-19</td>\n",
       "      <td>C:\\Users\\Philipp\\Google Drive\\Code_for_bothCom...</td>\n",
       "      <td>Financials</td>\n",
       "      <td></td>\n",
       "    </tr>\n",
       "    <tr>\n",
       "      <th>504</th>\n",
       "      <td>ZTS</td>\n",
       "      <td>2013-02-01</td>\n",
       "      <td>2021-03-19</td>\n",
       "      <td>C:\\Users\\Philipp\\Google Drive\\Code_for_bothCom...</td>\n",
       "      <td>Health Care</td>\n",
       "      <td></td>\n",
       "    </tr>\n",
       "  </tbody>\n",
       "</table>\n",
       "<p>505 rows × 6 columns</p>\n",
       "</div>"
      ],
      "text/plain": [
       "    TICKER FIRST_DATE_OHLC LAST_DATE_OHLC  \\\n",
       "0      MMM      1990-01-02     2021-03-19   \n",
       "1      AOS      1990-01-02     2021-03-19   \n",
       "2      ABT      1990-01-02     2021-03-19   \n",
       "3     ABBV      2013-01-02     2021-03-19   \n",
       "4     ABMD      1990-01-02     2021-03-19   \n",
       "..     ...             ...            ...   \n",
       "500    YUM      1997-09-17     2021-03-19   \n",
       "501   ZBRA      1991-08-15     2021-03-19   \n",
       "502    ZBH      2001-07-25     2021-03-19   \n",
       "503   ZION      1990-01-02     2021-03-19   \n",
       "504    ZTS      2013-02-01     2021-03-19   \n",
       "\n",
       "                                              FILEPATH  \\\n",
       "0    C:\\Users\\Philipp\\Google Drive\\Code_for_bothCom...   \n",
       "1    C:\\Users\\Philipp\\Google Drive\\Code_for_bothCom...   \n",
       "2    C:\\Users\\Philipp\\Google Drive\\Code_for_bothCom...   \n",
       "3    C:\\Users\\Philipp\\Google Drive\\Code_for_bothCom...   \n",
       "4    C:\\Users\\Philipp\\Google Drive\\Code_for_bothCom...   \n",
       "..                                                 ...   \n",
       "500  C:\\Users\\Philipp\\Google Drive\\Code_for_bothCom...   \n",
       "501  C:\\Users\\Philipp\\Google Drive\\Code_for_bothCom...   \n",
       "502  C:\\Users\\Philipp\\Google Drive\\Code_for_bothCom...   \n",
       "503  C:\\Users\\Philipp\\Google Drive\\Code_for_bothCom...   \n",
       "504  C:\\Users\\Philipp\\Google Drive\\Code_for_bothCom...   \n",
       "\n",
       "                     SECTOR FILEPATH_TECH_IND_CALC  \n",
       "0               Industrials                         \n",
       "1               Industrials                         \n",
       "2               Health Care                         \n",
       "3               Health Care                         \n",
       "4               Health Care                         \n",
       "..                      ...                    ...  \n",
       "500  Consumer Discretionary                         \n",
       "501  Information Technology                         \n",
       "502             Health Care                         \n",
       "503              Financials                         \n",
       "504             Health Care                         \n",
       "\n",
       "[505 rows x 6 columns]"
      ]
     },
     "execution_count": 11,
     "metadata": {},
     "output_type": "execute_result"
    }
   ],
   "source": [
    "masterDf"
   ]
  },
  {
   "cell_type": "markdown",
   "metadata": {
    "ExecuteTime": {
     "end_time": "2021-03-19T15:47:04.118810Z",
     "start_time": "2021-03-19T15:47:04.086988Z"
    }
   },
   "source": [
    "### Get the data from the masterDF and calculate the technical indicators"
   ]
  },
  {
   "cell_type": "code",
   "execution_count": 11,
   "metadata": {},
   "outputs": [],
   "source": [
    "currMasterDF = masterDf.head(2)"
   ]
  },
  {
   "cell_type": "code",
   "execution_count": 10,
   "metadata": {},
   "outputs": [
    {
     "data": {
      "text/plain": [
       "{'AAPL': 'Loading data problem for ticker AAPL'}"
      ]
     },
     "execution_count": 10,
     "metadata": {},
     "output_type": "execute_result"
    }
   ],
   "source": [
    "ticker = 'AAPL'\n",
    "problemDict = {}\n",
    "problemDict[ticker] = f'Loading data problem for ticker {ticker}'\n",
    "problemDict"
   ]
  },
  {
   "cell_type": "code",
   "execution_count": 17,
   "metadata": {},
   "outputs": [],
   "source": [
    "def batchCalculationOfTechnicalIndicators(masterdf, pathToOutpu = dataPathToTechIndicators, strategyList = 'all', ):\n",
    "    for index, row in tqdm(masterdf.iterrows(), total=masterdf.shape[0], leave = False):\n",
    "        # get the ticker from the current row\n",
    "        ticker = row[0]\n",
    "        \n",
    "        tickerFilename = ticker + '_tech_ind_calculated'\n",
    "        filepath = dataPathToTechIndicators.joinpath(\n",
    "                tickerFilename\n",
    "            )\n",
    "        if filepath.is_file() == False:\n",
    "            problemDict = {}\n",
    "\n",
    "            try:\n",
    "                # load the data from disk\n",
    "                df = loadHistDataFromDisk(ticker)\n",
    "                df.set_index(pd.DatetimeIndex(df['Date']), inplace = True);\n",
    "                df = df.drop('Date',axis = 1);\n",
    "            except:\n",
    "                print(f'Problem arose loading data from disk for the ticker {ticker}')\n",
    "                problemDict[ticker] = f'Loading data problem for ticker {ticker}'\n",
    "\n",
    "\n",
    "            try:\n",
    "                # calculate the technical indicators\n",
    "                df.ta.log_return(cumalative=True,append=True);\n",
    "            except:\n",
    "                print(f'Calculate the log-returns failed for the ticker {ticker}')\n",
    "                problemDict[ticker] = f'Problem for ticker {ticker} when caluclating the log-returns'\n",
    "            # check if a different strategy has been supplied \n",
    "            if strategyList == 'all':\n",
    "                strategyList = ['Cycles', 'Overlap', 'Momentum', 'Statistics','Trend', 'Volatility', 'Volume']\n",
    "\n",
    "            # loop through the strategies and calculate the technical indicators \n",
    "            for strategy in strategyList:#tqdm(strategyList, leave = False):\n",
    "                try:\n",
    "                    df.ta.strategy(strategy)\n",
    "                except:\n",
    "                    print(f\"There has been a problem calculating the techincal indicator for {strategy} for the ticker {ticker}.\")\n",
    "                    problemDict[ticker] = f\"There has been a problem calculating the techincal indicator for {strategy} for the ticker {ticker}.\"\n",
    "\n",
    "\n",
    "            # save the created dataframe to disk \n",
    "            try:\n",
    "\n",
    "                df = df.reset_index()\n",
    "                df.to_feather(filepath)\n",
    "            except:\n",
    "                print(f'Could not save the calculated technical indicators for the ticker {ticker}!')\n",
    "                problemDict[ticker] = f'Could not save the calculated technical indicators for the ticker {ticker}!'\n",
    "\n",
    "        \n",
    "        # add a reference to the masterDF\n",
    "        try:\n",
    "            masterdf.loc[masterdf.TICKER == ticker, 'FILEPATH_TECH_IND_CALC'] = filepath\n",
    "        except:\n",
    "            print(f'Did not write the {ticker}-technical indicator filetpath to masterDf!')\n",
    "            problemDict[ticker] = f'Did not write the {ticker}-technical indicator filetpath to masterDf!'\n",
    "        return problemDict"
   ]
  },
  {
   "cell_type": "code",
   "execution_count": 18,
   "metadata": {},
   "outputs": [
    {
     "name": "stderr",
     "output_type": "stream",
     "text": [
      "  0%|          | 0/505 [00:00<?, ?it/s]"
     ]
    },
    {
     "name": "stdout",
     "output_type": "stream",
     "text": [
      "Problem arose loading data from disk for the ticker BRK.B\n",
      "Calculate the log-returns failed for the ticker BRK.B\n",
      "There has been a problem calculating the techincal indicator for Candles for the ticker BRK.B.\n",
      "There has been a problem calculating the techincal indicator for Cycles for the ticker BRK.B.\n",
      "There has been a problem calculating the techincal indicator for Overlap for the ticker BRK.B.\n",
      "There has been a problem calculating the techincal indicator for Momentum for the ticker BRK.B.\n",
      "There has been a problem calculating the techincal indicator for Statistics for the ticker BRK.B.\n",
      "There has been a problem calculating the techincal indicator for Trend for the ticker BRK.B.\n",
      "There has been a problem calculating the techincal indicator for Volatility for the ticker BRK.B.\n",
      "There has been a problem calculating the techincal indicator for Volume for the ticker BRK.B.\n",
      "Could not save the calculated technical indicators for the ticker BRK.B!\n"
     ]
    },
    {
     "name": "stderr",
     "output_type": "stream",
     "text": [
      " 15%|█▌        | 77/505 [05:07<1:55:56, 16.25s/it]"
     ]
    },
    {
     "name": "stdout",
     "output_type": "stream",
     "text": [
      "Problem arose loading data from disk for the ticker BF.B\n",
      "There has been a problem calculating the techincal indicator for Overlap for the ticker BF.B.\n"
     ]
    },
    {
     "name": "stderr",
     "output_type": "stream",
     "text": [
      " 22%|██▏       | 112/505 [19:14<2:44:12, 25.07s/it]"
     ]
    },
    {
     "name": "stdout",
     "output_type": "stream",
     "text": [
      "There has been a problem calculating the techincal indicator for Candles for the ticker KO.\n"
     ]
    },
    {
     "name": "stderr",
     "output_type": "stream",
     "text": [
      " 27%|██▋       | 136/505 [29:57<2:41:09, 26.21s/it]"
     ]
    },
    {
     "name": "stdout",
     "output_type": "stream",
     "text": [
      "There has been a problem calculating the techincal indicator for Candles for the ticker DVN.\n"
     ]
    },
    {
     "name": "stderr",
     "output_type": "stream",
     "text": [
      " 31%|███       | 155/505 [37:18<2:40:16, 27.47s/it]"
     ]
    },
    {
     "name": "stdout",
     "output_type": "stream",
     "text": [
      "There has been a problem calculating the techincal indicator for Candles for the ticker EMN.\n"
     ]
    },
    {
     "name": "stderr",
     "output_type": "stream",
     "text": [
      " 31%|███▏      | 158/505 [38:35<2:31:38, 26.22s/it]"
     ]
    },
    {
     "name": "stdout",
     "output_type": "stream",
     "text": [
      "There has been a problem calculating the techincal indicator for Candles for the ticker ECL.\n"
     ]
    },
    {
     "name": "stderr",
     "output_type": "stream",
     "text": [
      " 44%|████▍     | 222/505 [1:05:57<2:13:20, 28.27s/it]"
     ]
    },
    {
     "name": "stdout",
     "output_type": "stream",
     "text": [
      "There has been a problem calculating the techincal indicator for Candles for the ticker HES.\n"
     ]
    },
    {
     "name": "stderr",
     "output_type": "stream",
     "text": [
      " 64%|██████▎   | 321/505 [1:48:15<1:20:23, 26.21s/it]"
     ]
    },
    {
     "name": "stdout",
     "output_type": "stream",
     "text": [
      "There has been a problem calculating the techincal indicator for Candles for the ticker MSI.\n"
     ]
    },
    {
     "name": "stderr",
     "output_type": "stream",
     "text": [
      " 68%|██████▊   | 342/505 [1:56:44<1:07:45, 24.94s/it]"
     ]
    },
    {
     "name": "stdout",
     "output_type": "stream",
     "text": [
      "There has been a problem calculating the techincal indicator for Candles for the ticker NVDA.\n"
     ]
    },
    {
     "name": "stderr",
     "output_type": "stream",
     "text": [
      " 74%|███████▍  | 373/505 [2:09:57<58:37, 26.65s/it]  "
     ]
    },
    {
     "name": "stdout",
     "output_type": "stream",
     "text": [
      "There has been a problem calculating the techincal indicator for Candles for the ticker PGR.\n"
     ]
    },
    {
     "name": "stderr",
     "output_type": "stream",
     "text": [
      " 77%|███████▋  | 390/505 [2:17:22<52:29, 27.39s/it]"
     ]
    },
    {
     "name": "stdout",
     "output_type": "stream",
     "text": [
      "There has been a problem calculating the techincal indicator for Candles for the ticker RF.\n"
     ]
    },
    {
     "name": "stderr",
     "output_type": "stream",
     "text": [
      " 86%|████████▌ | 434/505 [2:36:26<29:39, 25.06s/it]"
     ]
    },
    {
     "name": "stdout",
     "output_type": "stream",
     "text": [
      "There has been a problem calculating the techincal indicator for Candles for the ticker TXT.\n"
     ]
    },
    {
     "name": "stderr",
     "output_type": "stream",
     "text": [
      " 87%|████████▋ | 439/505 [2:38:47<30:47, 27.99s/it]"
     ]
    },
    {
     "name": "stdout",
     "output_type": "stream",
     "text": [
      "There has been a problem calculating the techincal indicator for Candles for the ticker MOS.\n"
     ]
    },
    {
     "name": "stderr",
     "output_type": "stream",
     "text": [
      " 97%|█████████▋| 492/505 [3:01:26<05:19, 24.58s/it]"
     ]
    },
    {
     "name": "stdout",
     "output_type": "stream",
     "text": [
      "There has been a problem calculating the techincal indicator for Candles for the ticker WHR.\n"
     ]
    },
    {
     "name": "stderr",
     "output_type": "stream",
     "text": [
      " 98%|█████████▊| 493/505 [3:01:53<05:03, 25.30s/it]"
     ]
    },
    {
     "name": "stdout",
     "output_type": "stream",
     "text": [
      "There has been a problem calculating the techincal indicator for Candles for the ticker WMB.\n"
     ]
    },
    {
     "name": "stderr",
     "output_type": "stream",
     "text": [
      " 98%|█████████▊| 497/505 [3:03:33<03:23, 25.44s/it]"
     ]
    },
    {
     "name": "stdout",
     "output_type": "stream",
     "text": [
      "There has been a problem calculating the techincal indicator for Candles for the ticker XRX.\n"
     ]
    },
    {
     "name": "stderr",
     "output_type": "stream",
     "text": [
      "                                                   \r"
     ]
    }
   ],
   "source": [
    "batchCalculationOfTechnicalIndicators(masterDf)"
   ]
  },
  {
   "cell_type": "code",
   "execution_count": 25,
   "metadata": {},
   "outputs": [],
   "source": [
    "problematicTickers = [\"BRK.B\", \"KO\", \"DVN\", \"EMN\", \"ECL\", \"HES\", \"MSI\", \"NVDA\", \"PGR\", \"RF\", \"TXT\", \"MOS\", \"WHR\", \"WMB\", \"XRX\"]"
   ]
  },
  {
   "cell_type": "code",
   "execution_count": 22,
   "metadata": {},
   "outputs": [],
   "source": [
    "masterDf.to_csv(pathToMasterDF, index=False)"
   ]
  },
  {
   "cell_type": "markdown",
   "metadata": {},
   "source": [
    "### check some of the problematic results\n"
   ]
  },
  {
   "cell_type": "code",
   "execution_count": 34,
   "metadata": {},
   "outputs": [
    {
     "data": {
      "text/html": [
       "<div>\n",
       "<style scoped>\n",
       "    .dataframe tbody tr th:only-of-type {\n",
       "        vertical-align: middle;\n",
       "    }\n",
       "\n",
       "    .dataframe tbody tr th {\n",
       "        vertical-align: top;\n",
       "    }\n",
       "\n",
       "    .dataframe thead th {\n",
       "        text-align: right;\n",
       "    }\n",
       "</style>\n",
       "<table border=\"1\" class=\"dataframe\">\n",
       "  <thead>\n",
       "    <tr style=\"text-align: right;\">\n",
       "      <th></th>\n",
       "      <th>Date</th>\n",
       "      <th>Open</th>\n",
       "      <th>High</th>\n",
       "      <th>Low</th>\n",
       "      <th>Close</th>\n",
       "      <th>Volume</th>\n",
       "      <th>Dividends</th>\n",
       "      <th>Stock Splits</th>\n",
       "    </tr>\n",
       "  </thead>\n",
       "  <tbody>\n",
       "    <tr>\n",
       "      <th>0</th>\n",
       "      <td>1990-01-02</td>\n",
       "      <td>0.572266</td>\n",
       "      <td>0.577637</td>\n",
       "      <td>0.568359</td>\n",
       "      <td>0.575684</td>\n",
       "      <td>889200.0</td>\n",
       "      <td>0.0</td>\n",
       "      <td>0.0</td>\n",
       "    </tr>\n",
       "    <tr>\n",
       "      <th>1</th>\n",
       "      <td>1990-01-03</td>\n",
       "      <td>0.577637</td>\n",
       "      <td>0.586914</td>\n",
       "      <td>0.577637</td>\n",
       "      <td>0.579590</td>\n",
       "      <td>1198800.0</td>\n",
       "      <td>0.0</td>\n",
       "      <td>0.0</td>\n",
       "    </tr>\n",
       "    <tr>\n",
       "      <th>2</th>\n",
       "      <td>1990-01-04</td>\n",
       "      <td>0.575684</td>\n",
       "      <td>0.575684</td>\n",
       "      <td>0.573730</td>\n",
       "      <td>0.575684</td>\n",
       "      <td>1760400.0</td>\n",
       "      <td>0.0</td>\n",
       "      <td>0.0</td>\n",
       "    </tr>\n",
       "    <tr>\n",
       "      <th>3</th>\n",
       "      <td>1990-01-05</td>\n",
       "      <td>0.575684</td>\n",
       "      <td>0.579590</td>\n",
       "      <td>0.575684</td>\n",
       "      <td>0.577637</td>\n",
       "      <td>100800.0</td>\n",
       "      <td>0.0</td>\n",
       "      <td>0.0</td>\n",
       "    </tr>\n",
       "    <tr>\n",
       "      <th>4</th>\n",
       "      <td>1990-01-08</td>\n",
       "      <td>0.575684</td>\n",
       "      <td>0.579590</td>\n",
       "      <td>0.575684</td>\n",
       "      <td>0.579590</td>\n",
       "      <td>644400.0</td>\n",
       "      <td>0.0</td>\n",
       "      <td>0.0</td>\n",
       "    </tr>\n",
       "  </tbody>\n",
       "</table>\n",
       "</div>"
      ],
      "text/plain": [
       "        Date      Open      High       Low     Close     Volume  Dividends  \\\n",
       "0 1990-01-02  0.572266  0.577637  0.568359  0.575684   889200.0        0.0   \n",
       "1 1990-01-03  0.577637  0.586914  0.577637  0.579590  1198800.0        0.0   \n",
       "2 1990-01-04  0.575684  0.575684  0.573730  0.575684  1760400.0        0.0   \n",
       "3 1990-01-05  0.575684  0.579590  0.575684  0.577637   100800.0        0.0   \n",
       "4 1990-01-08  0.575684  0.579590  0.575684  0.579590   644400.0        0.0   \n",
       "\n",
       "   Stock Splits  \n",
       "0           0.0  \n",
       "1           0.0  \n",
       "2           0.0  \n",
       "3           0.0  \n",
       "4           0.0  "
      ]
     },
     "execution_count": 34,
     "metadata": {},
     "output_type": "execute_result"
    }
   ],
   "source": [
    "df = loadHistDataFromDisk('PGR')\n",
    "df.head()"
   ]
  },
  {
   "cell_type": "markdown",
   "metadata": {},
   "source": [
    "## Technical Indicator Strategies\n",
    "Based on the implementation of https://github.com/twopirllc/pandas-ta"
   ]
  },
  {
   "cell_type": "code",
   "execution_count": 16,
   "metadata": {},
   "outputs": [],
   "source": [
    "df = loadHistDataFromDisk('AAPL')\n",
    "df.set_index(pd.DatetimeIndex(df['Date']), inplace = True);\n",
    "df = df.drop('Date',axis = 1);"
   ]
  },
  {
   "cell_type": "code",
   "execution_count": 73,
   "metadata": {},
   "outputs": [],
   "source": [
    "df = df.iloc[:1000]"
   ]
  },
  {
   "cell_type": "markdown",
   "metadata": {},
   "source": [
    "#### Candles Technical Indicators"
   ]
  },
  {
   "cell_type": "code",
   "execution_count": 75,
   "metadata": {},
   "outputs": [
    {
     "name": "stdout",
     "output_type": "stream",
     "text": [
      "There have been 0 features added\n"
     ]
    }
   ],
   "source": [
    "before = len(df.columns)\n",
    "df.ta.strategy('Candles')\n",
    "after = len(df.columns)\n",
    "print(f'There have been {after-before} features added')"
   ]
  },
  {
   "cell_type": "markdown",
   "metadata": {},
   "source": [
    "#### Cycles Technical Indicators"
   ]
  },
  {
   "cell_type": "code",
   "execution_count": 78,
   "metadata": {},
   "outputs": [
    {
     "name": "stdout",
     "output_type": "stream",
     "text": [
      "There have been 1 features added\n"
     ]
    }
   ],
   "source": [
    "before = len(df.columns)\n",
    "df.ta.strategy('Cycles')\n",
    "after = len(df.columns)\n",
    "print(f'There have been {after-before} features added')"
   ]
  },
  {
   "cell_type": "markdown",
   "metadata": {},
   "source": [
    "#### Overlap Technical Indicators"
   ]
  },
  {
   "cell_type": "code",
   "execution_count": 80,
   "metadata": {
    "scrolled": true
   },
   "outputs": [
    {
     "name": "stdout",
     "output_type": "stream",
     "text": [
      "There have been 40 features added\n"
     ]
    }
   ],
   "source": [
    "before = len(df.columns)\n",
    "df.ta.strategy('Overlap')\n",
    "after = len(df.columns)\n",
    "print(f'There have been {after-before} features added')"
   ]
  },
  {
   "cell_type": "markdown",
   "metadata": {},
   "source": [
    "#### Momentum Technical Indicators"
   ]
  },
  {
   "cell_type": "code",
   "execution_count": 79,
   "metadata": {},
   "outputs": [
    {
     "name": "stdout",
     "output_type": "stream",
     "text": [
      "There have been 60 features added\n"
     ]
    }
   ],
   "source": [
    "before = len(df.columns)\n",
    "df.ta.strategy('Momentum')\n",
    "after = len(df.columns)\n",
    "print(f'There have been {after-before} features added')"
   ]
  },
  {
   "cell_type": "markdown",
   "metadata": {},
   "source": [
    "#### Statistics Technical Indicators"
   ]
  },
  {
   "cell_type": "code",
   "execution_count": 82,
   "metadata": {},
   "outputs": [
    {
     "name": "stdout",
     "output_type": "stream",
     "text": [
      "There have been 9 features added\n"
     ]
    }
   ],
   "source": [
    "before = len(df.columns)\n",
    "df.ta.strategy('Statistics')\n",
    "after = len(df.columns)\n",
    "print(f'There have been {after-before} features added')"
   ]
  },
  {
   "cell_type": "markdown",
   "metadata": {},
   "source": [
    "#### Trend Technical Indicators"
   ]
  },
  {
   "cell_type": "code",
   "execution_count": 83,
   "metadata": {},
   "outputs": [
    {
     "name": "stdout",
     "output_type": "stream",
     "text": [
      "There have been 23 features added\n"
     ]
    }
   ],
   "source": [
    "before = len(df.columns)\n",
    "df.ta.strategy('Trend')\n",
    "after = len(df.columns)\n",
    "print(f'There have been {after-before} features added')"
   ]
  },
  {
   "cell_type": "markdown",
   "metadata": {},
   "source": [
    "#### Volatility Technical Indicators"
   ]
  },
  {
   "cell_type": "code",
   "execution_count": 85,
   "metadata": {},
   "outputs": [
    {
     "name": "stdout",
     "output_type": "stream",
     "text": [
      "There have been 31 features added\n"
     ]
    }
   ],
   "source": [
    "before = len(df.columns)\n",
    "df.ta.strategy('Volatility')\n",
    "after = len(df.columns)\n",
    "print(f'There have been {after-before} features added')"
   ]
  },
  {
   "cell_type": "markdown",
   "metadata": {},
   "source": [
    "#### Volume Technical Indicators"
   ]
  },
  {
   "cell_type": "code",
   "execution_count": 86,
   "metadata": {},
   "outputs": [
    {
     "name": "stdout",
     "output_type": "stream",
     "text": [
      "There have been 18 features added\n"
     ]
    }
   ],
   "source": [
    "before = len(df.columns)\n",
    "df.ta.strategy('Volume')\n",
    "after = len(df.columns)\n",
    "print(f'There have been {after-before} features added')"
   ]
  }
 ],
 "metadata": {
  "kernelspec": {
   "display_name": "Python 3",
   "language": "python",
   "name": "python3"
  },
  "language_info": {
   "codemirror_mode": {
    "name": "ipython",
    "version": 3
   },
   "file_extension": ".py",
   "mimetype": "text/x-python",
   "name": "python",
   "nbconvert_exporter": "python",
   "pygments_lexer": "ipython3",
   "version": "3.6.12"
  },
  "varInspector": {
   "cols": {
    "lenName": 16,
    "lenType": 16,
    "lenVar": 40
   },
   "kernels_config": {
    "python": {
     "delete_cmd_postfix": "",
     "delete_cmd_prefix": "del ",
     "library": "var_list.py",
     "varRefreshCmd": "print(var_dic_list())"
    },
    "r": {
     "delete_cmd_postfix": ") ",
     "delete_cmd_prefix": "rm(",
     "library": "var_list.r",
     "varRefreshCmd": "cat(var_dic_list()) "
    }
   },
   "types_to_exclude": [
    "module",
    "function",
    "builtin_function_or_method",
    "instance",
    "_Feature"
   ],
   "window_display": false
  }
 },
 "nbformat": 4,
 "nbformat_minor": 4
}
