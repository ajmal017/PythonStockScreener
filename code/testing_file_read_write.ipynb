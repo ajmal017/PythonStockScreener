{
 "metadata": {
  "language_info": {
   "codemirror_mode": {
    "name": "ipython",
    "version": 3
   },
   "file_extension": ".py",
   "mimetype": "text/x-python",
   "name": "python",
   "nbconvert_exporter": "python",
   "pygments_lexer": "ipython3",
   "version": "3.8.5-final"
  },
  "orig_nbformat": 2,
  "kernelspec": {
   "name": "python3",
   "display_name": "Python 3.8.5 64-bit ('finance': conda)",
   "metadata": {
    "interpreter": {
     "hash": "abe263e767662d32459d58e9fe94dd9080bdf677db79ee2f065563f398d049a9"
    }
   }
  }
 },
 "nbformat": 4,
 "nbformat_minor": 2,
 "cells": [
  {
   "cell_type": "code",
   "execution_count": 15,
   "metadata": {},
   "outputs": [],
   "source": [
    "# Import statements\n",
    "import yfinance as yf\n",
    "import pandas as pd\n",
    "import os\n",
    "import numpy as np\n",
    "from datetime import date\n",
    "from pathlib import Path\n",
    "\n",
    "from price_data_pull_yfinance import gethistoricalOHLC, saveHistStockData\n",
    "\n",
    "from global_vars import dataPathToOHLC, pathToMasterDF, float16Cols, float32Cols\n",
    "\n",
    "masterDF = pd.DataFrame(columns=['TICKER', 'FIRST_DATE_OHLC', 'LAST_DATE_OHLC', 'FILEPATH'])"
   ]
  },
  {
   "cell_type": "code",
   "execution_count": 16,
   "metadata": {},
   "outputs": [],
   "source": [
    "# save the master_df_to_file\n",
    "masterDF.to_csv(pathToMasterDF, index = False)"
   ]
  },
  {
   "cell_type": "code",
   "execution_count": 17,
   "metadata": {},
   "outputs": [
    {
     "output_type": "execute_result",
     "data": {
      "text/plain": [
       "Empty DataFrame\n",
       "Columns: [TICKER, FIRST_DATE_OHLC, LAST_DATE_OHLC, FILEPATH]\n",
       "Index: []"
      ],
      "text/html": "<div>\n<style scoped>\n    .dataframe tbody tr th:only-of-type {\n        vertical-align: middle;\n    }\n\n    .dataframe tbody tr th {\n        vertical-align: top;\n    }\n\n    .dataframe thead th {\n        text-align: right;\n    }\n</style>\n<table border=\"1\" class=\"dataframe\">\n  <thead>\n    <tr style=\"text-align: right;\">\n      <th></th>\n      <th>TICKER</th>\n      <th>FIRST_DATE_OHLC</th>\n      <th>LAST_DATE_OHLC</th>\n      <th>FILEPATH</th>\n    </tr>\n  </thead>\n  <tbody>\n  </tbody>\n</table>\n</div>"
     },
     "metadata": {},
     "execution_count": 17
    }
   ],
   "source": [
    "masterDF"
   ]
  },
  {
   "cell_type": "code",
   "execution_count": null,
   "metadata": {},
   "outputs": [],
   "source": []
  },
  {
   "cell_type": "code",
   "execution_count": 4,
   "metadata": {},
   "outputs": [],
   "source": [
    "h_MSFT = gethistoricalOHLC('MSFT')\n",
    "h_AAPL_short = gethistoricalOHLC('AAPL',end_date='2015-12-31')\n",
    "h_AAPL_long = gethistoricalOHLC('AAPL')"
   ]
  },
  {
   "cell_type": "code",
   "execution_count": 10,
   "metadata": {},
   "outputs": [
    {
     "output_type": "execute_result",
     "data": {
      "text/plain": [
       "         Date      Open      High       Low     Close      Volume  Dividends  \\\n",
       "0  1999-12-31  37.31250  37.40625  36.90625  37.06250  12517600.0        0.0   \n",
       "1  2000-01-03  37.28125  37.68750  35.56250  37.03125  53228400.0        0.0   \n",
       "2  2000-01-04  36.06250  37.18750  35.65625  35.78125  54119000.0        0.0   \n",
       "3  2000-01-05  35.28125  36.96875  34.75000  36.15625  64059600.0        0.0   \n",
       "4  2000-01-06  35.62500  36.15625  34.40625  34.93750  54976600.0        0.0   \n",
       "\n",
       "   Stock Splits  \n",
       "0           0.0  \n",
       "1           0.0  \n",
       "2           0.0  \n",
       "3           0.0  \n",
       "4           0.0  "
      ],
      "text/html": "<div>\n<style scoped>\n    .dataframe tbody tr th:only-of-type {\n        vertical-align: middle;\n    }\n\n    .dataframe tbody tr th {\n        vertical-align: top;\n    }\n\n    .dataframe thead th {\n        text-align: right;\n    }\n</style>\n<table border=\"1\" class=\"dataframe\">\n  <thead>\n    <tr style=\"text-align: right;\">\n      <th></th>\n      <th>Date</th>\n      <th>Open</th>\n      <th>High</th>\n      <th>Low</th>\n      <th>Close</th>\n      <th>Volume</th>\n      <th>Dividends</th>\n      <th>Stock Splits</th>\n    </tr>\n  </thead>\n  <tbody>\n    <tr>\n      <th>0</th>\n      <td>1999-12-31</td>\n      <td>37.31250</td>\n      <td>37.40625</td>\n      <td>36.90625</td>\n      <td>37.06250</td>\n      <td>12517600.0</td>\n      <td>0.0</td>\n      <td>0.0</td>\n    </tr>\n    <tr>\n      <th>1</th>\n      <td>2000-01-03</td>\n      <td>37.28125</td>\n      <td>37.68750</td>\n      <td>35.56250</td>\n      <td>37.03125</td>\n      <td>53228400.0</td>\n      <td>0.0</td>\n      <td>0.0</td>\n    </tr>\n    <tr>\n      <th>2</th>\n      <td>2000-01-04</td>\n      <td>36.06250</td>\n      <td>37.18750</td>\n      <td>35.65625</td>\n      <td>35.78125</td>\n      <td>54119000.0</td>\n      <td>0.0</td>\n      <td>0.0</td>\n    </tr>\n    <tr>\n      <th>3</th>\n      <td>2000-01-05</td>\n      <td>35.28125</td>\n      <td>36.96875</td>\n      <td>34.75000</td>\n      <td>36.15625</td>\n      <td>64059600.0</td>\n      <td>0.0</td>\n      <td>0.0</td>\n    </tr>\n    <tr>\n      <th>4</th>\n      <td>2000-01-06</td>\n      <td>35.62500</td>\n      <td>36.15625</td>\n      <td>34.40625</td>\n      <td>34.93750</td>\n      <td>54976600.0</td>\n      <td>0.0</td>\n      <td>0.0</td>\n    </tr>\n  </tbody>\n</table>\n</div>"
     },
     "metadata": {},
     "execution_count": 10
    }
   ],
   "source": [
    "h_MSFT.head()"
   ]
  },
  {
   "cell_type": "code",
   "execution_count": 18,
   "metadata": {},
   "outputs": [
    {
     "output_type": "execute_result",
     "data": {
      "text/plain": [
       "True"
      ]
     },
     "metadata": {},
     "execution_count": 18
    }
   ],
   "source": [
    "saveHistStockData('MSFT',h_MSFT)"
   ]
  },
  {
   "cell_type": "code",
   "execution_count": 7,
   "metadata": {},
   "outputs": [
    {
     "output_type": "execute_result",
     "data": {
      "text/plain": [
       "Empty DataFrame\n",
       "Columns: [TICKER, FIRST_DATE_OHLC, LAST_DATE_OHLC, FILEPATH]\n",
       "Index: []"
      ],
      "text/html": "<div>\n<style scoped>\n    .dataframe tbody tr th:only-of-type {\n        vertical-align: middle;\n    }\n\n    .dataframe tbody tr th {\n        vertical-align: top;\n    }\n\n    .dataframe thead th {\n        text-align: right;\n    }\n</style>\n<table border=\"1\" class=\"dataframe\">\n  <thead>\n    <tr style=\"text-align: right;\">\n      <th></th>\n      <th>TICKER</th>\n      <th>FIRST_DATE_OHLC</th>\n      <th>LAST_DATE_OHLC</th>\n      <th>FILEPATH</th>\n    </tr>\n  </thead>\n  <tbody>\n  </tbody>\n</table>\n</div>"
     },
     "metadata": {},
     "execution_count": 7
    }
   ],
   "source": [
    "masterDF"
   ]
  },
  {
   "cell_type": "code",
   "execution_count": 19,
   "metadata": {},
   "outputs": [],
   "source": [
    "test = pd.read_csv(pathToMasterDF)"
   ]
  },
  {
   "cell_type": "code",
   "execution_count": 20,
   "metadata": {},
   "outputs": [
    {
     "output_type": "execute_result",
     "data": {
      "text/plain": [
       "  TICKER  FIRST_DATE_OHLC  LAST_DATE_OHLC  \\\n",
       "0   MSFT                0            5327   \n",
       "\n",
       "                                            FILEPATH  \n",
       "0  C:\\Users\\phili\\Google Drive\\Code_for_bothCompu...  "
      ],
      "text/html": "<div>\n<style scoped>\n    .dataframe tbody tr th:only-of-type {\n        vertical-align: middle;\n    }\n\n    .dataframe tbody tr th {\n        vertical-align: top;\n    }\n\n    .dataframe thead th {\n        text-align: right;\n    }\n</style>\n<table border=\"1\" class=\"dataframe\">\n  <thead>\n    <tr style=\"text-align: right;\">\n      <th></th>\n      <th>TICKER</th>\n      <th>FIRST_DATE_OHLC</th>\n      <th>LAST_DATE_OHLC</th>\n      <th>FILEPATH</th>\n    </tr>\n  </thead>\n  <tbody>\n    <tr>\n      <th>0</th>\n      <td>MSFT</td>\n      <td>0</td>\n      <td>5327</td>\n      <td>C:\\Users\\phili\\Google Drive\\Code_for_bothCompu...</td>\n    </tr>\n  </tbody>\n</table>\n</div>"
     },
     "metadata": {},
     "execution_count": 20
    }
   ],
   "source": [
    "test"
   ]
  },
  {
   "cell_type": "code",
   "execution_count": null,
   "metadata": {},
   "outputs": [],
   "source": []
  }
 ]
}