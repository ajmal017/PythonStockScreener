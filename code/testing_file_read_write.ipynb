{
 "metadata": {
  "language_info": {
   "codemirror_mode": {
    "name": "ipython",
    "version": 3
   },
   "file_extension": ".py",
   "mimetype": "text/x-python",
   "name": "python",
   "nbconvert_exporter": "python",
   "pygments_lexer": "ipython3",
   "version": "3.8.5-final"
  },
  "orig_nbformat": 2,
  "kernelspec": {
   "name": "python3",
   "display_name": "Python 3.8.5 64-bit",
   "metadata": {
    "interpreter": {
     "hash": "abe263e767662d32459d58e9fe94dd9080bdf677db79ee2f065563f398d049a9"
    }
   }
  }
 },
 "nbformat": 4,
 "nbformat_minor": 2,
 "cells": [
  {
   "cell_type": "code",
   "execution_count": 45,
   "metadata": {},
   "outputs": [
    {
     "output_type": "error",
     "ename": "ImportError",
     "evalue": "cannot import name 'loadHistDataFromDisk' from 'price_data_pull_yfinance' (c:\\Users\\phili\\Google Drive\\Code_for_bothComputers\\PythonStockMarketEvalTool\\PythonStockScreener\\code\\price_data_pull_yfinance.py)",
     "traceback": [
      "\u001b[1;31m---------------------------------------------------------------------------\u001b[0m",
      "\u001b[1;31mImportError\u001b[0m                               Traceback (most recent call last)",
      "\u001b[1;32m<ipython-input-45-8c266a7f9542>\u001b[0m in \u001b[0;36m<module>\u001b[1;34m\u001b[0m\n\u001b[0;32m      7\u001b[0m \u001b[1;32mfrom\u001b[0m \u001b[0mpathlib\u001b[0m \u001b[1;32mimport\u001b[0m \u001b[0mPath\u001b[0m\u001b[1;33m\u001b[0m\u001b[1;33m\u001b[0m\u001b[0m\n\u001b[0;32m      8\u001b[0m \u001b[1;33m\u001b[0m\u001b[0m\n\u001b[1;32m----> 9\u001b[1;33m \u001b[1;32mfrom\u001b[0m \u001b[0mprice_data_pull_yfinance\u001b[0m \u001b[1;32mimport\u001b[0m \u001b[0mgethistoricalOHLC\u001b[0m\u001b[1;33m,\u001b[0m \u001b[0msaveHistStockData\u001b[0m\u001b[1;33m,\u001b[0m \u001b[0mloadHistDataFromDisk\u001b[0m\u001b[1;33m\u001b[0m\u001b[1;33m\u001b[0m\u001b[0m\n\u001b[0m\u001b[0;32m     10\u001b[0m \u001b[1;33m\u001b[0m\u001b[0m\n\u001b[0;32m     11\u001b[0m \u001b[1;33m\u001b[0m\u001b[0m\n",
      "\u001b[1;31mImportError\u001b[0m: cannot import name 'loadHistDataFromDisk' from 'price_data_pull_yfinance' (c:\\Users\\phili\\Google Drive\\Code_for_bothComputers\\PythonStockMarketEvalTool\\PythonStockScreener\\code\\price_data_pull_yfinance.py)"
     ]
    }
   ],
   "source": [
    "# Import statements\n",
    "import yfinance as yf\n",
    "import pandas as pd\n",
    "import os\n",
    "import numpy as np\n",
    "from datetime import date\n",
    "from pathlib import Path\n",
    "\n",
    "from price_data_pull_yfinance import gethistoricalOHLC, saveHistStockData, loadHistDataFromDisk\n",
    "\n",
    "\n",
    "from global_vars import dataPathToOHLC, pathToMasterDF, float16Cols, float32Cols\n",
    "\n",
    "masterDF = pd.DataFrame(columns=['TICKER', 'FIRST_DATE_OHLC', 'LAST_DATE_OHLC', 'FILEPATH'])"
   ]
  },
  {
   "cell_type": "code",
   "execution_count": 16,
   "metadata": {},
   "outputs": [],
   "source": [
    "# save the master_df_to_file\n",
    "masterDF.to_csv(pathToMasterDF, index = False)"
   ]
  },
  {
   "cell_type": "code",
   "execution_count": 17,
   "metadata": {},
   "outputs": [
    {
     "output_type": "execute_result",
     "data": {
      "text/plain": [
       "Empty DataFrame\n",
       "Columns: [TICKER, FIRST_DATE_OHLC, LAST_DATE_OHLC, FILEPATH]\n",
       "Index: []"
      ],
      "text/html": "<div>\n<style scoped>\n    .dataframe tbody tr th:only-of-type {\n        vertical-align: middle;\n    }\n\n    .dataframe tbody tr th {\n        vertical-align: top;\n    }\n\n    .dataframe thead th {\n        text-align: right;\n    }\n</style>\n<table border=\"1\" class=\"dataframe\">\n  <thead>\n    <tr style=\"text-align: right;\">\n      <th></th>\n      <th>TICKER</th>\n      <th>FIRST_DATE_OHLC</th>\n      <th>LAST_DATE_OHLC</th>\n      <th>FILEPATH</th>\n    </tr>\n  </thead>\n  <tbody>\n  </tbody>\n</table>\n</div>"
     },
     "metadata": {},
     "execution_count": 17
    }
   ],
   "source": [
    "masterDF"
   ]
  },
  {
   "cell_type": "code",
   "execution_count": null,
   "metadata": {},
   "outputs": [],
   "source": []
  },
  {
   "cell_type": "code",
   "execution_count": 4,
   "metadata": {},
   "outputs": [],
   "source": [
    "h_MSFT = gethistoricalOHLC('MSFT')\n",
    "h_AAPL_short = gethistoricalOHLC('AAPL',end_date='2015-12-31')\n",
    "h_AAPL_long = gethistoricalOHLC('AAPL')"
   ]
  },
  {
   "cell_type": "code",
   "execution_count": 10,
   "metadata": {},
   "outputs": [
    {
     "output_type": "execute_result",
     "data": {
      "text/plain": [
       "         Date      Open      High       Low     Close      Volume  Dividends  \\\n",
       "0  1999-12-31  37.31250  37.40625  36.90625  37.06250  12517600.0        0.0   \n",
       "1  2000-01-03  37.28125  37.68750  35.56250  37.03125  53228400.0        0.0   \n",
       "2  2000-01-04  36.06250  37.18750  35.65625  35.78125  54119000.0        0.0   \n",
       "3  2000-01-05  35.28125  36.96875  34.75000  36.15625  64059600.0        0.0   \n",
       "4  2000-01-06  35.62500  36.15625  34.40625  34.93750  54976600.0        0.0   \n",
       "\n",
       "   Stock Splits  \n",
       "0           0.0  \n",
       "1           0.0  \n",
       "2           0.0  \n",
       "3           0.0  \n",
       "4           0.0  "
      ],
      "text/html": "<div>\n<style scoped>\n    .dataframe tbody tr th:only-of-type {\n        vertical-align: middle;\n    }\n\n    .dataframe tbody tr th {\n        vertical-align: top;\n    }\n\n    .dataframe thead th {\n        text-align: right;\n    }\n</style>\n<table border=\"1\" class=\"dataframe\">\n  <thead>\n    <tr style=\"text-align: right;\">\n      <th></th>\n      <th>Date</th>\n      <th>Open</th>\n      <th>High</th>\n      <th>Low</th>\n      <th>Close</th>\n      <th>Volume</th>\n      <th>Dividends</th>\n      <th>Stock Splits</th>\n    </tr>\n  </thead>\n  <tbody>\n    <tr>\n      <th>0</th>\n      <td>1999-12-31</td>\n      <td>37.31250</td>\n      <td>37.40625</td>\n      <td>36.90625</td>\n      <td>37.06250</td>\n      <td>12517600.0</td>\n      <td>0.0</td>\n      <td>0.0</td>\n    </tr>\n    <tr>\n      <th>1</th>\n      <td>2000-01-03</td>\n      <td>37.28125</td>\n      <td>37.68750</td>\n      <td>35.56250</td>\n      <td>37.03125</td>\n      <td>53228400.0</td>\n      <td>0.0</td>\n      <td>0.0</td>\n    </tr>\n    <tr>\n      <th>2</th>\n      <td>2000-01-04</td>\n      <td>36.06250</td>\n      <td>37.18750</td>\n      <td>35.65625</td>\n      <td>35.78125</td>\n      <td>54119000.0</td>\n      <td>0.0</td>\n      <td>0.0</td>\n    </tr>\n    <tr>\n      <th>3</th>\n      <td>2000-01-05</td>\n      <td>35.28125</td>\n      <td>36.96875</td>\n      <td>34.75000</td>\n      <td>36.15625</td>\n      <td>64059600.0</td>\n      <td>0.0</td>\n      <td>0.0</td>\n    </tr>\n    <tr>\n      <th>4</th>\n      <td>2000-01-06</td>\n      <td>35.62500</td>\n      <td>36.15625</td>\n      <td>34.40625</td>\n      <td>34.93750</td>\n      <td>54976600.0</td>\n      <td>0.0</td>\n      <td>0.0</td>\n    </tr>\n  </tbody>\n</table>\n</div>"
     },
     "metadata": {},
     "execution_count": 10
    }
   ],
   "source": [
    "h_MSFT.head()"
   ]
  },
  {
   "cell_type": "code",
   "execution_count": 18,
   "metadata": {},
   "outputs": [
    {
     "output_type": "execute_result",
     "data": {
      "text/plain": [
       "True"
      ]
     },
     "metadata": {},
     "execution_count": 18
    }
   ],
   "source": [
    "saveHistStockData('MSFT',h_MSFT)"
   ]
  },
  {
   "cell_type": "code",
   "execution_count": 7,
   "metadata": {},
   "outputs": [
    {
     "output_type": "execute_result",
     "data": {
      "text/plain": [
       "Empty DataFrame\n",
       "Columns: [TICKER, FIRST_DATE_OHLC, LAST_DATE_OHLC, FILEPATH]\n",
       "Index: []"
      ],
      "text/html": "<div>\n<style scoped>\n    .dataframe tbody tr th:only-of-type {\n        vertical-align: middle;\n    }\n\n    .dataframe tbody tr th {\n        vertical-align: top;\n    }\n\n    .dataframe thead th {\n        text-align: right;\n    }\n</style>\n<table border=\"1\" class=\"dataframe\">\n  <thead>\n    <tr style=\"text-align: right;\">\n      <th></th>\n      <th>TICKER</th>\n      <th>FIRST_DATE_OHLC</th>\n      <th>LAST_DATE_OHLC</th>\n      <th>FILEPATH</th>\n    </tr>\n  </thead>\n  <tbody>\n  </tbody>\n</table>\n</div>"
     },
     "metadata": {},
     "execution_count": 7
    }
   ],
   "source": [
    "masterDF"
   ]
  },
  {
   "cell_type": "code",
   "execution_count": 19,
   "metadata": {},
   "outputs": [],
   "source": [
    "test = pd.read_csv(pathToMasterDF)"
   ]
  },
  {
   "cell_type": "code",
   "execution_count": 20,
   "metadata": {},
   "outputs": [
    {
     "output_type": "execute_result",
     "data": {
      "text/plain": [
       "  TICKER  FIRST_DATE_OHLC  LAST_DATE_OHLC  \\\n",
       "0   MSFT                0            5327   \n",
       "\n",
       "                                            FILEPATH  \n",
       "0  C:\\Users\\phili\\Google Drive\\Code_for_bothCompu...  "
      ],
      "text/html": "<div>\n<style scoped>\n    .dataframe tbody tr th:only-of-type {\n        vertical-align: middle;\n    }\n\n    .dataframe tbody tr th {\n        vertical-align: top;\n    }\n\n    .dataframe thead th {\n        text-align: right;\n    }\n</style>\n<table border=\"1\" class=\"dataframe\">\n  <thead>\n    <tr style=\"text-align: right;\">\n      <th></th>\n      <th>TICKER</th>\n      <th>FIRST_DATE_OHLC</th>\n      <th>LAST_DATE_OHLC</th>\n      <th>FILEPATH</th>\n    </tr>\n  </thead>\n  <tbody>\n    <tr>\n      <th>0</th>\n      <td>MSFT</td>\n      <td>0</td>\n      <td>5327</td>\n      <td>C:\\Users\\phili\\Google Drive\\Code_for_bothCompu...</td>\n    </tr>\n  </tbody>\n</table>\n</div>"
     },
     "metadata": {},
     "execution_count": 20
    }
   ],
   "source": [
    "test"
   ]
  },
  {
   "cell_type": "code",
   "execution_count": 39,
   "metadata": {},
   "outputs": [],
   "source": [
    "\n",
    "def loadHistDataFromDisk(ticker, database = None,pathToDF = pathToMasterDF, online_search = True):\n",
    "    '''tries to load data from disk, if available. \n",
    "    In case it does not work, it tries to pull the data from yahoo finance.\n",
    "    Full docu to be written '''\n",
    "    # TODO #4\n",
    "\n",
    "    assert isinstance(ticker, str), f'Ticker should be a string but is actually of type {type(ticker)}'\n",
    "\n",
    "    if database is None:       \n",
    "        try:\n",
    "            database = pd.read_csv(pathToMasterDF)\n",
    "            print(database.head())\n",
    "        except:\n",
    "            print(f\"could not open the database dataframe. Looking for a csv under the file location {pathToDF}\")\n",
    "    \n",
    "    if ticker in database['TICKER'].values:\n",
    "\n",
    "        pathToFile = database.loc[database['TICKER']=='AAPL', 'FILEPATH'].values[0]\n",
    "\n",
    "        tickerDF = pd.read_feather(pathToFile)\n",
    "    else:\n",
    "        print(\"Could not find the files you requested!\")\n",
    "        if online_search == True:\n",
    "            print(\"Try pulling the data from yfinance!\")\n",
    "            try:\n",
    "                tickerDF = gethistoricalOHLC(ticker)\n",
    "            except:\n",
    "                print(\"Could not load the data from yfinance!\")\n",
    "        \n",
    "\n",
    "    return tickerDF\n"
   ]
  },
  {
   "cell_type": "code",
   "execution_count": 40,
   "metadata": {},
   "outputs": [
    {
     "output_type": "stream",
     "name": "stdout",
     "text": [
      "  TICKER FIRST_DATE_OHLC LAST_DATE_OHLC  \\\n0   MSFT      1999-12-31     2018-12-28   \n1   AAPL      1999-12-31     2021-03-05   \n\n                                            FILEPATH  \n0  C:\\Users\\phili\\Google Drive\\Code_for_bothCompu...  \n1  C:\\Users\\phili\\Google Drive\\Code_for_bothCompu...  \n"
     ]
    }
   ],
   "source": [
    "AAPL_hist = loadHistDataFromDisk('AAPL')"
   ]
  },
  {
   "cell_type": "code",
   "execution_count": 41,
   "metadata": {},
   "outputs": [
    {
     "output_type": "execute_result",
     "data": {
      "text/plain": [
       "      index        Date        Open        High         Low       Close  \\\n",
       "0         0  1999-12-31    0.776367    0.791016    0.765137    0.790527   \n",
       "1         1  2000-01-03    0.806641    0.865234    0.782227    0.860840   \n",
       "2         2  2000-01-04    0.832520    0.850586    0.778320    0.788086   \n",
       "3         3  2000-01-05    0.797852    0.850098    0.791992    0.799805   \n",
       "4         4  2000-01-06    0.816406    0.822754    0.730469    0.730469   \n",
       "...     ...         ...         ...         ...         ...         ...   \n",
       "5323   5323  2021-03-01  123.750000  127.937500  122.812500  127.812500   \n",
       "5324   5324  2021-03-02  128.375000  128.750000  125.000000  125.125000   \n",
       "5325   5325  2021-03-03  124.812500  125.687500  121.812500  122.062500   \n",
       "5326   5326  2021-03-04  121.750000  123.625000  118.625000  120.125000   \n",
       "5327   5327  2021-03-05  121.000000  121.937500  117.562500  121.437500   \n",
       "\n",
       "           Volume  Dividends  Stock Splits  \n",
       "0     163811200.0        0.0           0.0  \n",
       "1     535796800.0        0.0           0.0  \n",
       "2     512377600.0        0.0           0.0  \n",
       "3     778321600.0        0.0           0.0  \n",
       "4     767972800.0        0.0           0.0  \n",
       "...           ...        ...           ...  \n",
       "5323  115998304.0        0.0           0.0  \n",
       "5324  102015296.0        0.0           0.0  \n",
       "5325  112430400.0        0.0           0.0  \n",
       "5326  177275296.0        0.0           0.0  \n",
       "5327  153590400.0        0.0           0.0  \n",
       "\n",
       "[5328 rows x 9 columns]"
      ],
      "text/html": "<div>\n<style scoped>\n    .dataframe tbody tr th:only-of-type {\n        vertical-align: middle;\n    }\n\n    .dataframe tbody tr th {\n        vertical-align: top;\n    }\n\n    .dataframe thead th {\n        text-align: right;\n    }\n</style>\n<table border=\"1\" class=\"dataframe\">\n  <thead>\n    <tr style=\"text-align: right;\">\n      <th></th>\n      <th>index</th>\n      <th>Date</th>\n      <th>Open</th>\n      <th>High</th>\n      <th>Low</th>\n      <th>Close</th>\n      <th>Volume</th>\n      <th>Dividends</th>\n      <th>Stock Splits</th>\n    </tr>\n  </thead>\n  <tbody>\n    <tr>\n      <th>0</th>\n      <td>0</td>\n      <td>1999-12-31</td>\n      <td>0.776367</td>\n      <td>0.791016</td>\n      <td>0.765137</td>\n      <td>0.790527</td>\n      <td>163811200.0</td>\n      <td>0.0</td>\n      <td>0.0</td>\n    </tr>\n    <tr>\n      <th>1</th>\n      <td>1</td>\n      <td>2000-01-03</td>\n      <td>0.806641</td>\n      <td>0.865234</td>\n      <td>0.782227</td>\n      <td>0.860840</td>\n      <td>535796800.0</td>\n      <td>0.0</td>\n      <td>0.0</td>\n    </tr>\n    <tr>\n      <th>2</th>\n      <td>2</td>\n      <td>2000-01-04</td>\n      <td>0.832520</td>\n      <td>0.850586</td>\n      <td>0.778320</td>\n      <td>0.788086</td>\n      <td>512377600.0</td>\n      <td>0.0</td>\n      <td>0.0</td>\n    </tr>\n    <tr>\n      <th>3</th>\n      <td>3</td>\n      <td>2000-01-05</td>\n      <td>0.797852</td>\n      <td>0.850098</td>\n      <td>0.791992</td>\n      <td>0.799805</td>\n      <td>778321600.0</td>\n      <td>0.0</td>\n      <td>0.0</td>\n    </tr>\n    <tr>\n      <th>4</th>\n      <td>4</td>\n      <td>2000-01-06</td>\n      <td>0.816406</td>\n      <td>0.822754</td>\n      <td>0.730469</td>\n      <td>0.730469</td>\n      <td>767972800.0</td>\n      <td>0.0</td>\n      <td>0.0</td>\n    </tr>\n    <tr>\n      <th>...</th>\n      <td>...</td>\n      <td>...</td>\n      <td>...</td>\n      <td>...</td>\n      <td>...</td>\n      <td>...</td>\n      <td>...</td>\n      <td>...</td>\n      <td>...</td>\n    </tr>\n    <tr>\n      <th>5323</th>\n      <td>5323</td>\n      <td>2021-03-01</td>\n      <td>123.750000</td>\n      <td>127.937500</td>\n      <td>122.812500</td>\n      <td>127.812500</td>\n      <td>115998304.0</td>\n      <td>0.0</td>\n      <td>0.0</td>\n    </tr>\n    <tr>\n      <th>5324</th>\n      <td>5324</td>\n      <td>2021-03-02</td>\n      <td>128.375000</td>\n      <td>128.750000</td>\n      <td>125.000000</td>\n      <td>125.125000</td>\n      <td>102015296.0</td>\n      <td>0.0</td>\n      <td>0.0</td>\n    </tr>\n    <tr>\n      <th>5325</th>\n      <td>5325</td>\n      <td>2021-03-03</td>\n      <td>124.812500</td>\n      <td>125.687500</td>\n      <td>121.812500</td>\n      <td>122.062500</td>\n      <td>112430400.0</td>\n      <td>0.0</td>\n      <td>0.0</td>\n    </tr>\n    <tr>\n      <th>5326</th>\n      <td>5326</td>\n      <td>2021-03-04</td>\n      <td>121.750000</td>\n      <td>123.625000</td>\n      <td>118.625000</td>\n      <td>120.125000</td>\n      <td>177275296.0</td>\n      <td>0.0</td>\n      <td>0.0</td>\n    </tr>\n    <tr>\n      <th>5327</th>\n      <td>5327</td>\n      <td>2021-03-05</td>\n      <td>121.000000</td>\n      <td>121.937500</td>\n      <td>117.562500</td>\n      <td>121.437500</td>\n      <td>153590400.0</td>\n      <td>0.0</td>\n      <td>0.0</td>\n    </tr>\n  </tbody>\n</table>\n<p>5328 rows × 9 columns</p>\n</div>"
     },
     "metadata": {},
     "execution_count": 41
    }
   ],
   "source": [
    "AAPL_hist"
   ]
  },
  {
   "cell_type": "code",
   "execution_count": 34,
   "metadata": {},
   "outputs": [
    {
     "output_type": "execute_result",
     "data": {
      "text/plain": [
       "  TICKER FIRST_DATE_OHLC LAST_DATE_OHLC  \\\n",
       "0   MSFT      1999-12-31     2018-12-28   \n",
       "1   AAPL      1999-12-31     2021-03-05   \n",
       "\n",
       "                                            FILEPATH  \n",
       "0  C:\\Users\\phili\\Google Drive\\Code_for_bothCompu...  \n",
       "1  C:\\Users\\phili\\Google Drive\\Code_for_bothCompu...  "
      ],
      "text/html": "<div>\n<style scoped>\n    .dataframe tbody tr th:only-of-type {\n        vertical-align: middle;\n    }\n\n    .dataframe tbody tr th {\n        vertical-align: top;\n    }\n\n    .dataframe thead th {\n        text-align: right;\n    }\n</style>\n<table border=\"1\" class=\"dataframe\">\n  <thead>\n    <tr style=\"text-align: right;\">\n      <th></th>\n      <th>TICKER</th>\n      <th>FIRST_DATE_OHLC</th>\n      <th>LAST_DATE_OHLC</th>\n      <th>FILEPATH</th>\n    </tr>\n  </thead>\n  <tbody>\n    <tr>\n      <th>0</th>\n      <td>MSFT</td>\n      <td>1999-12-31</td>\n      <td>2018-12-28</td>\n      <td>C:\\Users\\phili\\Google Drive\\Code_for_bothCompu...</td>\n    </tr>\n    <tr>\n      <th>1</th>\n      <td>AAPL</td>\n      <td>1999-12-31</td>\n      <td>2021-03-05</td>\n      <td>C:\\Users\\phili\\Google Drive\\Code_for_bothCompu...</td>\n    </tr>\n  </tbody>\n</table>\n</div>"
     },
     "metadata": {},
     "execution_count": 34
    }
   ],
   "source": [
    "masterDF = pd.read_csv(pathToMasterDF);\n",
    "masterDF"
   ]
  },
  {
   "cell_type": "code",
   "execution_count": 38,
   "metadata": {},
   "outputs": [
    {
     "output_type": "execute_result",
     "data": {
      "text/plain": [
       "'C:\\\\Users\\\\phili\\\\Google Drive\\\\Code_for_bothComputers\\\\PythonStockMarketEvalTool\\\\PythonStockScreener\\\\01_data\\\\01_price_data\\\\AAPL'"
      ]
     },
     "metadata": {},
     "execution_count": 38
    }
   ],
   "source": [
    "masterDF.loc[masterDF['TICKER']=='AAPL', 'FILEPATH'].values[0]"
   ]
  },
  {
   "cell_type": "code",
   "execution_count": 32,
   "metadata": {},
   "outputs": [
    {
     "output_type": "execute_result",
     "data": {
      "text/plain": [
       "Empty DataFrame\n",
       "Columns: [TICKER, FIRST_DATE_OHLC, LAST_DATE_OHLC, FILEPATH]\n",
       "Index: []"
      ],
      "text/html": "<div>\n<style scoped>\n    .dataframe tbody tr th:only-of-type {\n        vertical-align: middle;\n    }\n\n    .dataframe tbody tr th {\n        vertical-align: top;\n    }\n\n    .dataframe thead th {\n        text-align: right;\n    }\n</style>\n<table border=\"1\" class=\"dataframe\">\n  <thead>\n    <tr style=\"text-align: right;\">\n      <th></th>\n      <th>TICKER</th>\n      <th>FIRST_DATE_OHLC</th>\n      <th>LAST_DATE_OHLC</th>\n      <th>FILEPATH</th>\n    </tr>\n  </thead>\n  <tbody>\n  </tbody>\n</table>\n</div>"
     },
     "metadata": {},
     "execution_count": 32
    }
   ],
   "source": [
    "masterDF"
   ]
  },
  {
   "cell_type": "code",
   "execution_count": null,
   "metadata": {},
   "outputs": [],
   "source": []
  }
 ]
}