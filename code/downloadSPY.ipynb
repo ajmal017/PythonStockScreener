{
 "cells": [
  {
   "cell_type": "code",
   "execution_count": 3,
   "metadata": {
    "ExecuteTime": {
     "end_time": "2021-03-19T15:43:51.332302Z",
     "start_time": "2021-03-19T15:43:44.476244Z"
    }
   },
   "outputs": [],
   "source": [
    "# Import statements\n",
    "import yfinance as yf\n",
    "import pandas as pd\n",
    "import os\n",
    "import numpy as np\n",
    "from datetime import date\n",
    "from pathlib import Path\n",
    "import pandas_ta as ta\n",
    "from price_data_pull_yfinance import gethistoricalOHLC, saveHistStockData, loadHistDataFromDisk\n",
    "\n",
    "from global_vars import dataPathToOHLC, pathToMasterDF, float16Cols, float32Cols"
   ]
  },
  {
   "cell_type": "code",
   "execution_count": 4,
   "metadata": {
    "ExecuteTime": {
     "end_time": "2021-03-19T15:43:58.473129Z",
     "start_time": "2021-03-19T15:43:58.442008Z"
    }
   },
   "outputs": [],
   "source": [
    "pd.set_option('display.max_columns', 500)"
   ]
  },
  {
   "cell_type": "code",
   "execution_count": 5,
   "metadata": {
    "ExecuteTime": {
     "end_time": "2021-03-19T15:52:11.755041Z",
     "start_time": "2021-03-19T15:52:11.724177Z"
    },
    "scrolled": true
   },
   "outputs": [
    {
     "data": {
      "text/html": [
       "<div>\n",
       "<style scoped>\n",
       "    .dataframe tbody tr th:only-of-type {\n",
       "        vertical-align: middle;\n",
       "    }\n",
       "\n",
       "    .dataframe tbody tr th {\n",
       "        vertical-align: top;\n",
       "    }\n",
       "\n",
       "    .dataframe thead th {\n",
       "        text-align: right;\n",
       "    }\n",
       "</style>\n",
       "<table border=\"1\" class=\"dataframe\">\n",
       "  <thead>\n",
       "    <tr style=\"text-align: right;\">\n",
       "      <th></th>\n",
       "      <th>TICKER</th>\n",
       "      <th>FIRST_DATE_OHLC</th>\n",
       "      <th>LAST_DATE_OHLC</th>\n",
       "      <th>FILEPATH</th>\n",
       "    </tr>\n",
       "  </thead>\n",
       "  <tbody>\n",
       "    <tr>\n",
       "      <th>0</th>\n",
       "      <td>NaN</td>\n",
       "      <td>NaN</td>\n",
       "      <td>NaN</td>\n",
       "      <td>NaN</td>\n",
       "    </tr>\n",
       "    <tr>\n",
       "      <th>1</th>\n",
       "      <td>NaN</td>\n",
       "      <td>NaN</td>\n",
       "      <td>NaN</td>\n",
       "      <td>NaN</td>\n",
       "    </tr>\n",
       "    <tr>\n",
       "      <th>2</th>\n",
       "      <td>NaN</td>\n",
       "      <td>NaN</td>\n",
       "      <td>NaN</td>\n",
       "      <td>NaN</td>\n",
       "    </tr>\n",
       "    <tr>\n",
       "      <th>3</th>\n",
       "      <td>NaN</td>\n",
       "      <td>NaN</td>\n",
       "      <td>NaN</td>\n",
       "      <td>NaN</td>\n",
       "    </tr>\n",
       "    <tr>\n",
       "      <th>4</th>\n",
       "      <td>NaN</td>\n",
       "      <td>NaN</td>\n",
       "      <td>NaN</td>\n",
       "      <td>NaN</td>\n",
       "    </tr>\n",
       "  </tbody>\n",
       "</table>\n",
       "</div>"
      ],
      "text/plain": [
       "   TICKER  FIRST_DATE_OHLC  LAST_DATE_OHLC  FILEPATH\n",
       "0     NaN              NaN             NaN       NaN\n",
       "1     NaN              NaN             NaN       NaN\n",
       "2     NaN              NaN             NaN       NaN\n",
       "3     NaN              NaN             NaN       NaN\n",
       "4     NaN              NaN             NaN       NaN"
      ]
     },
     "execution_count": 5,
     "metadata": {},
     "output_type": "execute_result"
    }
   ],
   "source": [
    "masterDf = pd.read_csv(pathToMasterDF);\n",
    "masterDf.head()"
   ]
  },
  {
   "cell_type": "code",
   "execution_count": 6,
   "metadata": {},
   "outputs": [],
   "source": [
    "masterDf = masterDf.iloc[0:0]"
   ]
  },
  {
   "cell_type": "markdown",
   "metadata": {},
   "source": [
    "## Load the ticker symbols from the S&P 500 and download them via yahoo finance"
   ]
  },
  {
   "cell_type": "markdown",
   "metadata": {},
   "source": [
    "The ticker symbols for the SnP500 are saved in the SnP500_constituents.csv. \n",
    "\n",
    "### Survivorship bias: \n",
    "Unfortunately, by using the latest version of the S&P500 we introduce a strong survivorship bias into our data sources. However, we are not able to optain more historical data. \n",
    "But, we are interested in the short term performance of stock. So that should be ok. "
   ]
  },
  {
   "cell_type": "code",
   "execution_count": 7,
   "metadata": {},
   "outputs": [],
   "source": [
    "from tqdm import tqdm\n",
    "from time import sleep"
   ]
  },
  {
   "cell_type": "code",
   "execution_count": 9,
   "metadata": {},
   "outputs": [],
   "source": [
    "SPY_ticker = pd.read_csv('../01_data/SnP500_constituents.csv');"
   ]
  },
  {
   "cell_type": "code",
   "execution_count": 11,
   "metadata": {},
   "outputs": [],
   "source": [
    "tickerlist = SPY_ticker.Symbol.to_list();\n",
    "# tickerlist"
   ]
  },
  {
   "cell_type": "code",
   "execution_count": 23,
   "metadata": {},
   "outputs": [],
   "source": [
    "def downloadNSave(tickerlist):\n",
    "    '''Download and save the tickerdata from yahoo finance and save them on disk.'''\n",
    "    for ticker in tqdm(tickerlist):\n",
    "        tickerDF = gethistoricalOHLC(ticker)\n",
    "        saveHistStockData(ticker, tickerDF)\n",
    "        sleep(0.1)"
   ]
  },
  {
   "cell_type": "code",
   "execution_count": 16,
   "metadata": {},
   "outputs": [
    {
     "name": "stderr",
     "output_type": "stream",
     "text": [
      " 13%|█▎        | 65/505 [00:38<04:00,  1.83it/s]"
     ]
    },
    {
     "name": "stdout",
     "output_type": "stream",
     "text": [
      "- BRK.B: No data found, symbol may be delisted\n",
      "something went wrong with ticker BRK.B.\n"
     ]
    },
    {
     "name": "stderr",
     "output_type": "stream",
     "text": [
      " 15%|█▌        | 78/505 [00:45<03:17,  2.16it/s]"
     ]
    },
    {
     "name": "stdout",
     "output_type": "stream",
     "text": [
      "- BF.B: No data found for this date range, symbol may be delisted\n",
      "something went wrong with ticker BF.B.\n"
     ]
    },
    {
     "name": "stderr",
     "output_type": "stream",
     "text": [
      "100%|██████████| 505/505 [06:05<00:00,  1.38it/s]\n"
     ]
    }
   ],
   "source": [
    "downloadNSave(tickerlist)"
   ]
  },
  {
   "cell_type": "markdown",
   "metadata": {},
   "source": [
    "### VIX, treasury bonds and forex \n",
    "- The VIX is an indicator of market volatility -> extra feature (trades under the name '%5EVIX')\n",
    "- Treasury bond yields can be seen as the risk free rate of return and are therefore an important compononent in the overall investment scenario\n",
    "- Forex Data can be of interest for indication how strong the USD is compared to other countries. We will look at the Japanese Yen, as well as the Britisch Pound, and Canadian Dollar\n",
    "\n",
    "#### Futher data ideas: \n",
    "- Unemployment rates\n",
    "- expected GDP growth\n"
   ]
  },
  {
   "cell_type": "code",
   "execution_count": 31,
   "metadata": {},
   "outputs": [
    {
     "data": {
      "text/plain": [
       "',Symbol,URL_ticker,description\\r\\n0,VIX,%5EVIX,Volatility Index\\r\\n1,IRX,%5EIRX,13 Week Treasury Bill\\r\\n2,FVX,%5EFVX,Treasury Yield 5 Years\\r\\n3,TNX,%5ETNX,Treasury Yield 10 Years\\r\\n4,TYX,%5ETYX,Treasury Yield 30 Years\\r\\n'"
      ]
     },
     "execution_count": 31,
     "metadata": {},
     "output_type": "execute_result"
    }
   ],
   "source": [
    "data = [['VIX', '%5EVIX', 'Volatility Index'],\n",
    "       ['IRX', '%5EIRX' , '13 Week Treasury Bill'],\n",
    "       ['FVX', '%5EFVX' , 'Treasury Yield 5 Years'],\n",
    "       ['TNX', '%5ETNX' , 'Treasury Yield 10 Years'],\n",
    "       ['TYX', '%5ETYX' , 'Treasury Yield 30 Years']]\n",
    "specialData = pd.DataFrame(data = data, columns = ['Symbol', 'URL_ticker', 'description'])\n",
    "specialData.to_csv()\n"
   ]
  },
  {
   "cell_type": "code",
   "execution_count": 27,
   "metadata": {},
   "outputs": [
    {
     "data": {
      "text/plain": [
       "True"
      ]
     },
     "execution_count": 27,
     "metadata": {},
     "output_type": "execute_result"
    }
   ],
   "source": [
    "# VIX data\n",
    "vixDF = gethistoricalOHLC('%5EVIX')\n",
    "saveHistStockData('%5EVIX', vixDF)"
   ]
  },
  {
   "cell_type": "code",
   "execution_count": 32,
   "metadata": {},
   "outputs": [
    {
     "data": {
      "text/plain": [
       "True"
      ]
     },
     "execution_count": 32,
     "metadata": {},
     "output_type": "execute_result"
    }
   ],
   "source": [
    "# TRX data\n",
    "vixDF = gethistoricalOHLC('%5EIRX')\n",
    "saveHistStockData('%5EIRX', vixDF)"
   ]
  },
  {
   "cell_type": "code",
   "execution_count": 33,
   "metadata": {},
   "outputs": [
    {
     "data": {
      "text/plain": [
       "True"
      ]
     },
     "execution_count": 33,
     "metadata": {},
     "output_type": "execute_result"
    }
   ],
   "source": [
    "# FVX data\n",
    "vixDF = gethistoricalOHLC('%5EFVX')\n",
    "saveHistStockData('%5EFVX', vixDF)"
   ]
  },
  {
   "cell_type": "code",
   "execution_count": 34,
   "metadata": {},
   "outputs": [
    {
     "data": {
      "text/plain": [
       "True"
      ]
     },
     "execution_count": 34,
     "metadata": {},
     "output_type": "execute_result"
    }
   ],
   "source": [
    "# TNX data\n",
    "vixDF = gethistoricalOHLC('%5ETNX')\n",
    "saveHistStockData('%5ETNX', vixDF)"
   ]
  },
  {
   "cell_type": "code",
   "execution_count": 35,
   "metadata": {},
   "outputs": [
    {
     "data": {
      "text/plain": [
       "True"
      ]
     },
     "execution_count": 35,
     "metadata": {},
     "output_type": "execute_result"
    }
   ],
   "source": [
    "# TYX data\n",
    "vixDF = gethistoricalOHLC('%5ETYX')\n",
    "saveHistStockData('%5ETYX', vixDF)"
   ]
  },
  {
   "cell_type": "markdown",
   "metadata": {},
   "source": [
    "# helper functions"
   ]
  },
  {
   "cell_type": "code",
   "execution_count": 47,
   "metadata": {},
   "outputs": [],
   "source": [
    "def gethistoricalOHLC(ticker, start_date='1990-01-01', end_date=None):\n",
    "    \"\"\"finds a ticker and its representative OHLC data from yahoo finance.\n",
    "    Returns a pandas dataframe\"\"\"\n",
    "\n",
    "    if ticker is None:\n",
    "        print(\"Ticker is empty!!!\")\n",
    "\n",
    "    if end_date == \"\" or end_date is None:\n",
    "        end_date = str(date.today())\n",
    "\n",
    "    # TODO #1 #create a checkup if that data is already in the database\n",
    "\n",
    "    # instantiate the yf obj\n",
    "    tickerObj = yf.Ticker(ticker)\n",
    "    \n",
    "    # get historical data\n",
    "    df = tickerObj.history(start=start_date, end=end_date, interval=\"1d\")\n",
    "    \n",
    "    if df.shape[0] > 0:\n",
    "\n",
    "        try:\n",
    "            df.reset_index(inplace=True)\n",
    "            # cast column types\n",
    "            float16TypeCast = [col for col in df.columns if col in float16Cols]\n",
    "            float32TypeCast = [col for col in df.columns if col in float32Cols]\n",
    "            df[\"Date\"] = df[\"Date\"].dt.date\n",
    "            df[float16TypeCast] = df[float16TypeCast].astype(\"float16\")\n",
    "            df[float32TypeCast] = df[float32TypeCast].astype(\"float32\")\n",
    "        except:\n",
    "            print(f'something went wrong with ticker {ticker}.')\n",
    "    return df"
   ]
  },
  {
   "cell_type": "code",
   "execution_count": 46,
   "metadata": {},
   "outputs": [
    {
     "name": "stdout",
     "output_type": "stream",
     "text": [
      "- BRK.B: No data found, symbol may be delisted\n"
     ]
    },
    {
     "data": {
      "text/html": [
       "<div>\n",
       "<style scoped>\n",
       "    .dataframe tbody tr th:only-of-type {\n",
       "        vertical-align: middle;\n",
       "    }\n",
       "\n",
       "    .dataframe tbody tr th {\n",
       "        vertical-align: top;\n",
       "    }\n",
       "\n",
       "    .dataframe thead th {\n",
       "        text-align: right;\n",
       "    }\n",
       "</style>\n",
       "<table border=\"1\" class=\"dataframe\">\n",
       "  <thead>\n",
       "    <tr style=\"text-align: right;\">\n",
       "      <th></th>\n",
       "      <th>Open</th>\n",
       "      <th>High</th>\n",
       "      <th>Low</th>\n",
       "      <th>Close</th>\n",
       "      <th>Adj Close</th>\n",
       "      <th>Volume</th>\n",
       "    </tr>\n",
       "    <tr>\n",
       "      <th>Date</th>\n",
       "      <th></th>\n",
       "      <th></th>\n",
       "      <th></th>\n",
       "      <th></th>\n",
       "      <th></th>\n",
       "      <th></th>\n",
       "    </tr>\n",
       "  </thead>\n",
       "  <tbody>\n",
       "  </tbody>\n",
       "</table>\n",
       "</div>"
      ],
      "text/plain": [
       "Empty DataFrame\n",
       "Columns: [Open, High, Low, Close, Adj Close, Volume]\n",
       "Index: []"
      ]
     },
     "execution_count": 46,
     "metadata": {},
     "output_type": "execute_result"
    }
   ],
   "source": []
  },
  {
   "cell_type": "code",
   "execution_count": null,
   "metadata": {},
   "outputs": [],
   "source": []
  }
 ],
 "metadata": {
  "kernelspec": {
   "display_name": "Python 3",
   "language": "python",
   "name": "python3"
  },
  "language_info": {
   "codemirror_mode": {
    "name": "ipython",
    "version": 3
   },
   "file_extension": ".py",
   "mimetype": "text/x-python",
   "name": "python",
   "nbconvert_exporter": "python",
   "pygments_lexer": "ipython3",
   "version": "3.8.5"
  },
  "varInspector": {
   "cols": {
    "lenName": 16,
    "lenType": 16,
    "lenVar": 40
   },
   "kernels_config": {
    "python": {
     "delete_cmd_postfix": "",
     "delete_cmd_prefix": "del ",
     "library": "var_list.py",
     "varRefreshCmd": "print(var_dic_list())"
    },
    "r": {
     "delete_cmd_postfix": ") ",
     "delete_cmd_prefix": "rm(",
     "library": "var_list.r",
     "varRefreshCmd": "cat(var_dic_list()) "
    }
   },
   "types_to_exclude": [
    "module",
    "function",
    "builtin_function_or_method",
    "instance",
    "_Feature"
   ],
   "window_display": false
  }
 },
 "nbformat": 4,
 "nbformat_minor": 4
}
