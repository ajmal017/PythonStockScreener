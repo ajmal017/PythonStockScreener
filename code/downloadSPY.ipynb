{
 "cells": [
  {
   "cell_type": "code",
   "execution_count": 1,
   "metadata": {
    "ExecuteTime": {
     "end_time": "2021-03-19T15:43:51.332302Z",
     "start_time": "2021-03-19T15:43:44.476244Z"
    }
   },
   "outputs": [
    {
     "name": "stdout",
     "output_type": "stream",
     "text": [
      "  TICKER FIRST_DATE_OHLC LAST_DATE_OHLC  \\\n",
      "0   MSFT      1999-12-31     2018-12-28   \n",
      "1   AAPL      1999-12-31     2015-12-30   \n",
      "\n",
      "                                            FILEPATH  \n",
      "0  C:\\Users\\Philipp\\Google Drive\\Code_for_bothCom...  \n",
      "1  C:\\Users\\Philipp\\Google Drive\\Code_for_bothCom...  \n",
      "before update\n",
      "updated\n",
      "  TICKER FIRST_DATE_OHLC LAST_DATE_OHLC  \\\n",
      "0   MSFT      1999-12-31     2018-12-28   \n",
      "1   AAPL      1999-12-31     2021-03-19   \n",
      "\n",
      "                                            FILEPATH  \n",
      "0  C:\\Users\\Philipp\\Google Drive\\Code_for_bothCom...  \n",
      "1  C:\\Users\\Philipp\\Google Drive\\Code_for_bothCom...  \n"
     ]
    }
   ],
   "source": [
    "# Import statements\n",
    "import yfinance as yf\n",
    "import pandas as pd\n",
    "import os\n",
    "import numpy as np\n",
    "from datetime import date\n",
    "from pathlib import Path\n",
    "import pandas_ta as ta\n",
    "from price_data_pull_yfinance import gethistoricalOHLC, saveHistStockData, loadHistDataFromDisk\n",
    "\n",
    "from global_vars import dataPathToOHLC, pathToMasterDF, float16Cols, float32Cols"
   ]
  },
  {
   "cell_type": "code",
   "execution_count": 2,
   "metadata": {
    "ExecuteTime": {
     "end_time": "2021-03-19T15:43:58.473129Z",
     "start_time": "2021-03-19T15:43:58.442008Z"
    }
   },
   "outputs": [],
   "source": [
    "pd.set_option('display.max_columns', 500)"
   ]
  },
  {
   "cell_type": "code",
   "execution_count": 3,
   "metadata": {
    "ExecuteTime": {
     "end_time": "2021-03-19T15:52:11.755041Z",
     "start_time": "2021-03-19T15:52:11.724177Z"
    }
   },
   "outputs": [
    {
     "data": {
      "text/html": [
       "<div>\n",
       "<style scoped>\n",
       "    .dataframe tbody tr th:only-of-type {\n",
       "        vertical-align: middle;\n",
       "    }\n",
       "\n",
       "    .dataframe tbody tr th {\n",
       "        vertical-align: top;\n",
       "    }\n",
       "\n",
       "    .dataframe thead th {\n",
       "        text-align: right;\n",
       "    }\n",
       "</style>\n",
       "<table border=\"1\" class=\"dataframe\">\n",
       "  <thead>\n",
       "    <tr style=\"text-align: right;\">\n",
       "      <th></th>\n",
       "      <th>TICKER</th>\n",
       "      <th>FIRST_DATE_OHLC</th>\n",
       "      <th>LAST_DATE_OHLC</th>\n",
       "      <th>FILEPATH</th>\n",
       "    </tr>\n",
       "  </thead>\n",
       "  <tbody>\n",
       "    <tr>\n",
       "      <th>0</th>\n",
       "      <td>MSFT</td>\n",
       "      <td>1999-12-31</td>\n",
       "      <td>2018-12-28</td>\n",
       "      <td>C:\\Users\\Philipp\\Google Drive\\Code_for_bothCom...</td>\n",
       "    </tr>\n",
       "    <tr>\n",
       "      <th>1</th>\n",
       "      <td>AAPL</td>\n",
       "      <td>1999-12-31</td>\n",
       "      <td>2021-03-19</td>\n",
       "      <td>C:\\Users\\Philipp\\Google Drive\\Code_for_bothCom...</td>\n",
       "    </tr>\n",
       "  </tbody>\n",
       "</table>\n",
       "</div>"
      ],
      "text/plain": [
       "  TICKER FIRST_DATE_OHLC LAST_DATE_OHLC  \\\n",
       "0   MSFT      1999-12-31     2018-12-28   \n",
       "1   AAPL      1999-12-31     2021-03-19   \n",
       "\n",
       "                                            FILEPATH  \n",
       "0  C:\\Users\\Philipp\\Google Drive\\Code_for_bothCom...  \n",
       "1  C:\\Users\\Philipp\\Google Drive\\Code_for_bothCom...  "
      ]
     },
     "execution_count": 3,
     "metadata": {},
     "output_type": "execute_result"
    }
   ],
   "source": [
    "masterDf = pd.read_csv(pathToMasterDF);\n",
    "masterDf.head()"
   ]
  },
  {
   "cell_type": "markdown",
   "metadata": {},
   "source": [
    "## Load the ticker symbols from the S&P 500 and download them via yahoo finance"
   ]
  },
  {
   "cell_type": "markdown",
   "metadata": {},
   "source": [
    "The ticker symbols for the SnP500 are saved in the SnP500_constituents.csv. \n",
    "\n",
    "### Survivorship bias: \n",
    "Unfortunately, by using the latest version of the S&P500 we introduce a strong survivorship bias into our data sources. However, we are not able to optain more historical data. \n",
    "But, we are interested in the short term performance of stock. So that should be ok. "
   ]
  },
  {
   "cell_type": "code",
   "execution_count": 27,
   "metadata": {},
   "outputs": [],
   "source": [
    "from tqdm import tqdm\n",
    "from time import sleep"
   ]
  },
  {
   "cell_type": "code",
   "execution_count": 7,
   "metadata": {},
   "outputs": [],
   "source": [
    "SPY_ticker = pd.read_csv('../01_data/SnP500_constituents.csv');\n",
    "SPY_ticker = SPY_ticker.iloc[:5]"
   ]
  },
  {
   "cell_type": "code",
   "execution_count": 31,
   "metadata": {},
   "outputs": [
    {
     "data": {
      "text/plain": [
       "['MMM', 'AOS', 'ABT', 'ABBV', 'ABMD']"
      ]
     },
     "execution_count": 31,
     "metadata": {},
     "output_type": "execute_result"
    }
   ],
   "source": [
    "tickerlist = SPY_ticker.Symbol.to_list();\n",
    "tickerlist"
   ]
  },
  {
   "cell_type": "code",
   "execution_count": 37,
   "metadata": {},
   "outputs": [],
   "source": [
    "def batch_download(tickerlist):\n",
    "    '''Download and save the tickerdata from yahoo finance and save them on disk.'''\n",
    "    for ticker in tqdm(tickerlist):\n",
    "        tickerDF = gethistoricalOHLC(ticker)\n",
    "        saveHistStockData(ticker, tickerDF)\n",
    "        sleep(0.3)"
   ]
  },
  {
   "cell_type": "code",
   "execution_count": 39,
   "metadata": {},
   "outputs": [
    {
     "name": "stderr",
     "output_type": "stream",
     "text": [
      "\r",
      "  0%|          | 0/5 [00:00<?, ?it/s]"
     ]
    },
    {
     "name": "stdout",
     "output_type": "stream",
     "text": [
      "before update\n",
      "updated\n"
     ]
    },
    {
     "name": "stderr",
     "output_type": "stream",
     "text": [
      "\r",
      " 20%|██        | 1/5 [00:00<00:03,  1.03it/s]"
     ]
    },
    {
     "name": "stdout",
     "output_type": "stream",
     "text": [
      "before update\n",
      "updated\n"
     ]
    },
    {
     "name": "stderr",
     "output_type": "stream",
     "text": [
      "\r",
      " 40%|████      | 2/5 [00:02<00:03,  1.02s/it]"
     ]
    },
    {
     "name": "stdout",
     "output_type": "stream",
     "text": [
      "before update\n",
      "updated\n"
     ]
    },
    {
     "name": "stderr",
     "output_type": "stream",
     "text": [
      "\r",
      " 60%|██████    | 3/5 [00:03<00:02,  1.01s/it]"
     ]
    },
    {
     "name": "stdout",
     "output_type": "stream",
     "text": [
      "before update\n",
      "updated\n"
     ]
    },
    {
     "name": "stderr",
     "output_type": "stream",
     "text": [
      "\r",
      " 80%|████████  | 4/5 [00:03<00:00,  1.18it/s]"
     ]
    },
    {
     "name": "stdout",
     "output_type": "stream",
     "text": [
      "before update\n",
      "updated\n"
     ]
    },
    {
     "name": "stderr",
     "output_type": "stream",
     "text": [
      "100%|██████████| 5/5 [00:04<00:00,  1.13it/s]\n"
     ]
    }
   ],
   "source": [
    "batch_download(tickerlist)"
   ]
  },
  {
   "cell_type": "markdown",
   "metadata": {},
   "source": [
    "# helper functions"
   ]
  },
  {
   "cell_type": "code",
   "execution_count": 22,
   "metadata": {},
   "outputs": [],
   "source": [
    "def gethistoricalOHLC(ticker, start_date='1990-01-01', end_date=None):\n",
    "    \"\"\"finds a ticker and its representative OHLC data from yahoo finance.\n",
    "    Returns a pandas dataframe\"\"\"\n",
    "\n",
    "    if ticker is None:\n",
    "        print(\"Ticker is empty!!!\")\n",
    "\n",
    "    if end_date == \"\" or end_date is None:\n",
    "        end_date = str(date.today())\n",
    "\n",
    "    # TODO #1 #create a checkup if that data is already in the database\n",
    "\n",
    "    # instantiate the yf obj\n",
    "    tickerObj = yf.Ticker(ticker)\n",
    "\n",
    "    # get historical data\n",
    "    df = tickerObj.history(start=start_date, end=end_date, interval=\"1d\")\n",
    "\n",
    "    df.reset_index(inplace=True)\n",
    "    # cast column types\n",
    "    float16TypeCast = [col for col in df.columns if col in float16Cols]\n",
    "    float32TypeCast = [col for col in df.columns if col in float32Cols]\n",
    "    df[\"Date\"] = df[\"Date\"].dt.date\n",
    "    df[float16TypeCast] = df[float16TypeCast].astype(\"float16\")\n",
    "    df[float32TypeCast] = df[float32TypeCast].astype(\"float32\")\n",
    "\n",
    "    return df"
   ]
  },
  {
   "cell_type": "code",
   "execution_count": 25,
   "metadata": {},
   "outputs": [],
   "source": []
  }
 ],
 "metadata": {
  "kernelspec": {
   "display_name": "Python 3",
   "language": "python",
   "name": "python3"
  },
  "language_info": {
   "codemirror_mode": {
    "name": "ipython",
    "version": 3
   },
   "file_extension": ".py",
   "mimetype": "text/x-python",
   "name": "python",
   "nbconvert_exporter": "python",
   "pygments_lexer": "ipython3",
   "version": "3.8.5"
  },
  "varInspector": {
   "cols": {
    "lenName": 16,
    "lenType": 16,
    "lenVar": 40
   },
   "kernels_config": {
    "python": {
     "delete_cmd_postfix": "",
     "delete_cmd_prefix": "del ",
     "library": "var_list.py",
     "varRefreshCmd": "print(var_dic_list())"
    },
    "r": {
     "delete_cmd_postfix": ") ",
     "delete_cmd_prefix": "rm(",
     "library": "var_list.r",
     "varRefreshCmd": "cat(var_dic_list()) "
    }
   },
   "types_to_exclude": [
    "module",
    "function",
    "builtin_function_or_method",
    "instance",
    "_Feature"
   ],
   "window_display": false
  }
 },
 "nbformat": 4,
 "nbformat_minor": 4
}
